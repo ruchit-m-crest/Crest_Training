{
 "cells": [
  {
   "cell_type": "code",
   "execution_count": 31,
   "id": "6ba3a6f5-e7fb-4699-8956-a393ced2b590",
   "metadata": {},
   "outputs": [],
   "source": [
    "import urllib.request\n",
    "import json\n",
    "import re"
   ]
  },
  {
   "cell_type": "code",
   "execution_count": 33,
   "id": "250d1d86-4f94-4271-94f6-0c0b6476e9de",
   "metadata": {},
   "outputs": [],
   "source": [
    "# Get Public IP\n",
    "def getPublicIP():\n",
    "    data = str(urllib.request.urlopen('http://checkip.dyndns.com/').read())\n",
    "    return re.search(r'Address: (\\d+\\.\\d+\\.\\d+\\.\\d+)', data).group(1)\n",
    "\n",
    "IP = getPublicIP()\n",
    "\n",
    "# Get Location Details\n",
    "url = 'http://ipinfo.io/' + IP + '/json'\n",
    "response = urllib.request.urlopen(url)\n",
    "data = json.load(response)\n",
    "\n",
    "city = data.get('city', 'N/A')\n",
    "region = data.get('region', 'N/A')\n",
    "country = data.get('country', 'N/A')\n",
    "location = data.get('loc', 'N/A')\n",
    "org = data.get('org', 'N/A')\n"
   ]
  },
  {
   "cell_type": "code",
   "execution_count": 34,
   "id": "8b9f642b-5c6c-4361-bce2-7af70132e55e",
   "metadata": {},
   "outputs": [
    {
     "name": "stdout",
     "output_type": "stream",
     "text": [
      "Your city    : Surat\n",
      "Your Region  : Gujarat\n",
      "Your Country : IN\n",
      "Your Location: 21.1959,72.8302\n",
      "Yous ISP     : AS18207 YOU Broadband & Cable India Ltd.\n"
     ]
    }
   ],
   "source": [
    "#printing the extracted details\n",
    "print('Your city    : ' +city)\n",
    "print('Your Region  : ' +region)\n",
    "print('Your Country : ' +country)\n",
    "print('Your Location: ' +location)\n",
    "print('Yous ISP     : ' +org)"
   ]
  },
  {
   "cell_type": "code",
   "execution_count": null,
   "id": "631470b4-6f36-43c3-be88-3205210c8ed6",
   "metadata": {},
   "outputs": [],
   "source": []
  }
 ],
 "metadata": {
  "kernelspec": {
   "display_name": "Python 3 (ipykernel)",
   "language": "python",
   "name": "python3"
  },
  "language_info": {
   "codemirror_mode": {
    "name": "ipython",
    "version": 3
   },
   "file_extension": ".py",
   "mimetype": "text/x-python",
   "name": "python",
   "nbconvert_exporter": "python",
   "pygments_lexer": "ipython3",
   "version": "3.13.5"
  }
 },
 "nbformat": 4,
 "nbformat_minor": 5
}
