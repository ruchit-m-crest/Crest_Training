{
 "cells": [
  {
   "cell_type": "code",
   "execution_count": 1,
   "id": "2609e78f-d9a5-4158-95c1-c0961c0a9152",
   "metadata": {},
   "outputs": [
    {
     "data": {
      "text/plain": [
       "'C:\\\\Users\\\\RuchitMeshiya\\\\my python stuff'"
      ]
     },
     "execution_count": 1,
     "metadata": {},
     "output_type": "execute_result"
    }
   ],
   "source": [
    "pwd"
   ]
  },
  {
   "cell_type": "code",
   "execution_count": 2,
   "id": "942d9690-45b5-4e36-b2f4-b36580551763",
   "metadata": {},
   "outputs": [],
   "source": [
    "import csv"
   ]
  },
  {
   "cell_type": "code",
   "execution_count": 28,
   "id": "1eca66e7-57b7-4d48-a0c7-7a330fe37b6e",
   "metadata": {},
   "outputs": [
    {
     "ename": "UnicodeDecodeError",
     "evalue": "'charmap' codec can't decode byte 0x8d in position 1810: character maps to <undefined>",
     "output_type": "error",
     "traceback": [
      "\u001b[1;31m---------------------------------------------------------------------------\u001b[0m",
      "\u001b[1;31mUnicodeDecodeError\u001b[0m                        Traceback (most recent call last)",
      "Cell \u001b[1;32mIn[28], line 8\u001b[0m\n\u001b[0;32m      5\u001b[0m csv_data \u001b[38;5;241m=\u001b[39m csv\u001b[38;5;241m.\u001b[39mreader(data)\n\u001b[0;32m      7\u001b[0m \u001b[38;5;66;03m#reformat it into a python object list of lists\u001b[39;00m\n\u001b[1;32m----> 8\u001b[0m data_lines \u001b[38;5;241m=\u001b[39m \u001b[38;5;28mlist\u001b[39m(csv_data)\n",
      "File \u001b[1;32m~\\anaconda3\\Lib\\encodings\\cp1252.py:23\u001b[0m, in \u001b[0;36mIncrementalDecoder.decode\u001b[1;34m(self, input, final)\u001b[0m\n\u001b[0;32m     22\u001b[0m \u001b[38;5;28;01mdef\u001b[39;00m\u001b[38;5;250m \u001b[39m\u001b[38;5;21mdecode\u001b[39m(\u001b[38;5;28mself\u001b[39m, \u001b[38;5;28minput\u001b[39m, final\u001b[38;5;241m=\u001b[39m\u001b[38;5;28;01mFalse\u001b[39;00m):\n\u001b[1;32m---> 23\u001b[0m     \u001b[38;5;28;01mreturn\u001b[39;00m codecs\u001b[38;5;241m.\u001b[39mcharmap_decode(\u001b[38;5;28minput\u001b[39m,\u001b[38;5;28mself\u001b[39m\u001b[38;5;241m.\u001b[39merrors,decoding_table)[\u001b[38;5;241m0\u001b[39m]\n",
      "\u001b[1;31mUnicodeDecodeError\u001b[0m: 'charmap' codec can't decode byte 0x8d in position 1810: character maps to <undefined>"
     ]
    }
   ],
   "source": [
    "#open csv file\n",
    "data = open('example.csv')\n",
    "\n",
    "#csv. ender\n",
    "csv_data = csv.reader(data)\n",
    "\n",
    "#reformat it into a python object list of lists\n",
    "data_lines = list(csv_data)"
   ]
  },
  {
   "cell_type": "code",
   "execution_count": 10,
   "id": "324d8cf8-26da-48c5-ba89-7f0f64cb513e",
   "metadata": {},
   "outputs": [],
   "source": [
    "data = open('example.csv',encoding='utf-8')\n",
    "csv_data = csv.reader(data)\n",
    "data_lines = list(csv_data)"
   ]
  },
  {
   "cell_type": "code",
   "execution_count": 32,
   "id": "7110a418-0ba5-4f5b-9b5a-8242572c377f",
   "metadata": {},
   "outputs": [
    {
     "data": {
      "text/plain": [
       "[['id', 'first_name', 'last_name', 'email', 'gender', 'ip_address', 'city'],\n",
       " ['1',\n",
       "  'Joseph',\n",
       "  'Zaniolini',\n",
       "  'jzaniolini0@simplemachines.org',\n",
       "  'Male',\n",
       "  '163.168.68.132',\n",
       "  'Pedro Leopoldo'],\n",
       " ['2',\n",
       "  'Freida',\n",
       "  'Drillingcourt',\n",
       "  'fdrillingcourt1@umich.edu',\n",
       "  'Female',\n",
       "  '97.212.102.79',\n",
       "  'Buri']]"
      ]
     },
     "execution_count": 32,
     "metadata": {},
     "output_type": "execute_result"
    }
   ],
   "source": [
    "data_lines[:3]"
   ]
  },
  {
   "cell_type": "code",
   "execution_count": 13,
   "id": "e5d5efef-6fdb-4ebe-9109-347efba27c3f",
   "metadata": {},
   "outputs": [
    {
     "name": "stdout",
     "output_type": "stream",
     "text": [
      "['id', 'first_name', 'last_name', 'email', 'gender', 'ip_address', 'city']\n",
      "['1', 'Joseph', 'Zaniolini', 'jzaniolini0@simplemachines.org', 'Male', '163.168.68.132', 'Pedro Leopoldo']\n",
      "['2', 'Freida', 'Drillingcourt', 'fdrillingcourt1@umich.edu', 'Female', '97.212.102.79', 'Buri']\n",
      "['3', 'Nanni', 'Herity', 'nherity2@statcounter.com', 'Female', '145.151.178.98', 'Claver']\n",
      "['4', 'Orazio', 'Frayling', 'ofrayling3@economist.com', 'Male', '25.199.143.143', 'Kungur']\n"
     ]
    }
   ],
   "source": [
    "for line in data_lines[:5]:\n",
    "    print(line)"
   ]
  },
  {
   "cell_type": "code",
   "execution_count": 14,
   "id": "e3132547-0446-45c9-9e24-1c16c51b460c",
   "metadata": {},
   "outputs": [
    {
     "data": {
      "text/plain": [
       "1001"
      ]
     },
     "execution_count": 14,
     "metadata": {},
     "output_type": "execute_result"
    }
   ],
   "source": [
    "len(data_lines)"
   ]
  },
  {
   "cell_type": "code",
   "execution_count": 16,
   "id": "ab282d6b-a467-4f7b-927a-1ec3c27d67b1",
   "metadata": {},
   "outputs": [],
   "source": [
    "all_emails = []\n",
    "\n",
    "for line in data_lines[1:15]:\n",
    "    all_emails.append(line[3])"
   ]
  },
  {
   "cell_type": "code",
   "execution_count": 17,
   "id": "24dd3546-0ef4-4692-a655-2e0bf5861340",
   "metadata": {},
   "outputs": [
    {
     "data": {
      "text/plain": [
       "['jzaniolini0@simplemachines.org',\n",
       " 'fdrillingcourt1@umich.edu',\n",
       " 'nherity2@statcounter.com',\n",
       " 'ofrayling3@economist.com',\n",
       " 'jmurrison4@cbslocal.com',\n",
       " 'lgamet5@list-manage.com',\n",
       " 'dhowatt6@amazon.com',\n",
       " 'kherion7@amazon.com',\n",
       " 'chedworth8@china.com.cn',\n",
       " 'hgasquoine9@google.ru',\n",
       " 'ftarra@shareasale.com',\n",
       " 'abathb@umn.edu',\n",
       " 'lchastangc@goo.gl',\n",
       " 'cceried@yale.edu']"
      ]
     },
     "execution_count": 17,
     "metadata": {},
     "output_type": "execute_result"
    }
   ],
   "source": [
    "all_emails"
   ]
  },
  {
   "cell_type": "code",
   "execution_count": 26,
   "id": "53f64771-1018-4eff-9d96-2c0eabcf7218",
   "metadata": {},
   "outputs": [],
   "source": [
    "all_city = []\n",
    "\n",
    "for city in data_lines[1:15]:\n",
    "    all_city.append(city[6])"
   ]
  },
  {
   "cell_type": "code",
   "execution_count": 27,
   "id": "56b9ce8b-fd56-40ea-8776-90f24df9e959",
   "metadata": {},
   "outputs": [
    {
     "data": {
      "text/plain": [
       "['Pedro Leopoldo',\n",
       " 'Buri',\n",
       " 'Claver',\n",
       " 'Kungur',\n",
       " 'Sainte-Luce-sur-Loire',\n",
       " 'Pak Phli',\n",
       " 'Palmares',\n",
       " 'Zákynthos',\n",
       " 'Boevange-sur-Attert',\n",
       " 'Złoty Stok',\n",
       " 'Salamnunggal',\n",
       " 'El Hermel',\n",
       " 'Tilburg',\n",
       " 'Shofirkon']"
      ]
     },
     "execution_count": 27,
     "metadata": {},
     "output_type": "execute_result"
    }
   ],
   "source": [
    "all_city"
   ]
  },
  {
   "cell_type": "code",
   "execution_count": 36,
   "id": "bdcaa8c2-7db6-452d-a3c9-7a5d7fa31865",
   "metadata": {},
   "outputs": [
    {
     "data": {
      "text/plain": [
       "['10',\n",
       " 'Hyatt',\n",
       " 'Gasquoine',\n",
       " 'hgasquoine9@google.ru',\n",
       " 'Male',\n",
       " '221.155.106.39',\n",
       " 'Złoty Stok']"
      ]
     },
     "execution_count": 36,
     "metadata": {},
     "output_type": "execute_result"
    }
   ],
   "source": [
    "data_lines[10]"
   ]
  },
  {
   "cell_type": "code",
   "execution_count": 39,
   "id": "a264a315-6946-4766-b44f-98fb079e8b33",
   "metadata": {},
   "outputs": [],
   "source": [
    "full_names = []\n",
    "\n",
    "for line in data_lines[1:10]:\n",
    "    full_names.append(line[1] + ' '  + line[2])\n",
    "    "
   ]
  },
  {
   "cell_type": "code",
   "execution_count": 40,
   "id": "a70259fd-639c-479d-b0ca-ff5db3dc066c",
   "metadata": {},
   "outputs": [
    {
     "data": {
      "text/plain": [
       "['Joseph Zaniolini',\n",
       " 'Freida Drillingcourt',\n",
       " 'Nanni Herity',\n",
       " 'Orazio Frayling',\n",
       " 'Julianne Murrison',\n",
       " 'Lucy Gamet',\n",
       " 'Dyana Howatt',\n",
       " 'Kassey Herion',\n",
       " 'Chrissy Hedworth']"
      ]
     },
     "execution_count": 40,
     "metadata": {},
     "output_type": "execute_result"
    }
   ],
   "source": [
    "full_names"
   ]
  },
  {
   "cell_type": "code",
   "execution_count": 89,
   "id": "6b79f391-8882-4ef5-92e5-f8ff1686351c",
   "metadata": {},
   "outputs": [],
   "source": [
    "#new line controls how univbersal newlines wortks(it only applies to text)\n",
    "file_to_output = open('to_save_file.csv','w',newline='')"
   ]
  },
  {
   "cell_type": "code",
   "execution_count": 90,
   "id": "a0773fe1-27c8-4465-8051-58dd0ec3096d",
   "metadata": {},
   "outputs": [],
   "source": [
    "csv_writer = csv.writer(file_to_output, delimiter=',')"
   ]
  },
  {
   "cell_type": "raw",
   "id": "27198d5a-50ce-4409-a239-dbd96f540b15",
   "metadata": {},
   "source": [
    "csv_writer.writerows(['a','b','c'])"
   ]
  },
  {
   "cell_type": "code",
   "execution_count": 91,
   "id": "869b6959-2965-41a1-a292-7ee7317046cc",
   "metadata": {},
   "outputs": [],
   "source": [
    "csv_writer.writerows([['1','2','3'],['4','5','6']])"
   ]
  },
  {
   "cell_type": "code",
   "execution_count": 92,
   "id": "b497442f-1b15-4c42-b12f-f581d217fcd3",
   "metadata": {},
   "outputs": [],
   "source": [
    "file_to_output.close()"
   ]
  },
  {
   "cell_type": "code",
   "execution_count": 98,
   "id": "e82d1892-2a34-427d-b09c-680b043ec2e7",
   "metadata": {},
   "outputs": [],
   "source": [
    "f= open('to_save_file.csv','a',newline='')"
   ]
  },
  {
   "cell_type": "code",
   "execution_count": 99,
   "id": "efd891e2-4e3a-4087-bb56-4c7ba9da1fd2",
   "metadata": {},
   "outputs": [],
   "source": [
    "csv_writer = csv.writer(f)"
   ]
  },
  {
   "cell_type": "code",
   "execution_count": 100,
   "id": "b9a9be05-3d89-467b-8d6d-43cc31025360",
   "metadata": {},
   "outputs": [],
   "source": [
    "csv_writer.writerows(['new','new','new'])"
   ]
  },
  {
   "cell_type": "raw",
   "id": "6992265e-c46f-4314-9456-51f501a4b0ea",
   "metadata": {},
   "source": [
    "f.close()"
   ]
  },
  {
   "cell_type": "code",
   "execution_count": 101,
   "id": "be7cd162-2598-4cc6-9815-4c0c21baf265",
   "metadata": {},
   "outputs": [
    {
     "name": "stdout",
     "output_type": "stream",
     "text": [
      "Requirement already satisfied: PyPDF2 in c:\\users\\ruchitmeshiya\\anaconda3\\lib\\site-packages (3.0.1)\n",
      "Note: you may need to restart the kernel to use updated packages.\n"
     ]
    }
   ],
   "source": [
    "pip install PyPDF2"
   ]
  },
  {
   "cell_type": "code",
   "execution_count": 103,
   "id": "fe4370c8-a698-4055-9df0-91e69847d2f5",
   "metadata": {},
   "outputs": [],
   "source": [
    "import PyPDF2"
   ]
  },
  {
   "cell_type": "code",
   "execution_count": 104,
   "id": "9dd14003-a2c1-494b-b3e3-2dca2bf9120d",
   "metadata": {},
   "outputs": [],
   "source": [
    "f = open('working_business_proposal.pdf','rb')"
   ]
  },
  {
   "cell_type": "code",
   "execution_count": 116,
   "id": "67fff157-31bd-4c5c-9ae7-4f0b1fec8b89",
   "metadata": {},
   "outputs": [],
   "source": [
    "pdf_reader = PyPDF2.PdfReader(f)"
   ]
  },
  {
   "cell_type": "code",
   "execution_count": 118,
   "id": "67085b44-bcb6-4c24-a9f9-e24455d0ae05",
   "metadata": {},
   "outputs": [
    {
     "data": {
      "text/plain": [
       "5"
      ]
     },
     "execution_count": 118,
     "metadata": {},
     "output_type": "execute_result"
    }
   ],
   "source": [
    "len(pdf_reader.pages)"
   ]
  },
  {
   "cell_type": "code",
   "execution_count": 119,
   "id": "c8622400-cc51-4d31-907c-48ec9d517247",
   "metadata": {},
   "outputs": [],
   "source": [
    "page_no = 0\n",
    "page_one = pdf_reader.pages[0]"
   ]
  },
  {
   "cell_type": "code",
   "execution_count": 120,
   "id": "15c6b3f0-3fb3-40f5-b78d-cd4aaffce4a8",
   "metadata": {},
   "outputs": [],
   "source": [
    "page_one_text = page_one.extract_text()"
   ]
  },
  {
   "cell_type": "code",
   "execution_count": 121,
   "id": "c326c6be-3e47-4654-968e-bf7463221f71",
   "metadata": {},
   "outputs": [
    {
     "data": {
      "text/plain": [
       "'Business Proposal The Revolution is Coming Leverage agile frameworks to provide a robust synopsis for high level overviews. Iterative approaches to corporate strategy foster collaborative thinking to further the overall value proposition. Organically grow the holistic world view of disruptive innovation via workplace diversity and empowerment. Bring to the table win-win survival strategies to ensure proactive domination. At the end of the day, going forward, a new normal that has evolved from generation X is on the runway heading towards a streamlined cloud solution. User generated content in real-time will have multiple touchpoints for offshoring. Capitalize on low hanging fruit to identify a ballpark value added activity to beta test. Override the digital divide with additional clickthroughs from DevOps. Nanotechnology immersion along the information highway will close the loop on focusing solely on the bottom line. Podcasting operational change management inside of workﬂows to establish a framework. Taking seamless key performance indicators ofﬂine to maximise the long tail. Keeping your eye on the ball while performing a deep dive on the start-up mentality to derive convergence on cross-platform integration. Collaboratively administrate empowered markets via plug-and-play networks. Dynamically procrastinate B2C users after installed base beneﬁts. Dramatically visualize customer directed convergence without revolutionary ROI. Efﬁciently unleash cross-media information without cross-media value. Quickly maximize timely deliverables for real-time schemas. Dramatically maintain clicks-and-mortar solutions without functional solutions. BUSINESS PROPOSAL!1'"
      ]
     },
     "execution_count": 121,
     "metadata": {},
     "output_type": "execute_result"
    }
   ],
   "source": [
    "page_one_text "
   ]
  },
  {
   "cell_type": "code",
   "execution_count": 122,
   "id": "4dcb182c-3d18-4ac8-a32a-b9e10a55a533",
   "metadata": {},
   "outputs": [],
   "source": [
    "f.close()"
   ]
  },
  {
   "cell_type": "code",
   "execution_count": 125,
   "id": "e5553a14-312c-4b68-9e3e-80a09d8d3179",
   "metadata": {},
   "outputs": [],
   "source": [
    "f = open('Working_Business_Proposal.pdf','rb')\n",
    "\n",
    "#list of the very page's text\n",
    "#index will be correspond to the number\n",
    "pdf_text = []\n",
    "\n",
    "pdf_reader = PyPDF2.PdfReader(f)\n",
    "\n",
    "for p in range(len(pdf_reader.pages)):\n",
    "    page = pdf_reader.pages[0]\n",
    "    pdf_text.append(page.extract_text())"
   ]
  },
  {
   "cell_type": "code",
   "execution_count": 126,
   "id": "3dcee7a1-d4c0-458c-bb4b-a47c149111e7",
   "metadata": {},
   "outputs": [
    {
     "data": {
      "text/plain": [
       "['Business Proposal The Revolution is Coming Leverage agile frameworks to provide a robust synopsis for high level overviews. Iterative approaches to corporate strategy foster collaborative thinking to further the overall value proposition. Organically grow the holistic world view of disruptive innovation via workplace diversity and empowerment. Bring to the table win-win survival strategies to ensure proactive domination. At the end of the day, going forward, a new normal that has evolved from generation X is on the runway heading towards a streamlined cloud solution. User generated content in real-time will have multiple touchpoints for offshoring. Capitalize on low hanging fruit to identify a ballpark value added activity to beta test. Override the digital divide with additional clickthroughs from DevOps. Nanotechnology immersion along the information highway will close the loop on focusing solely on the bottom line. Podcasting operational change management inside of workﬂows to establish a framework. Taking seamless key performance indicators ofﬂine to maximise the long tail. Keeping your eye on the ball while performing a deep dive on the start-up mentality to derive convergence on cross-platform integration. Collaboratively administrate empowered markets via plug-and-play networks. Dynamically procrastinate B2C users after installed base beneﬁts. Dramatically visualize customer directed convergence without revolutionary ROI. Efﬁciently unleash cross-media information without cross-media value. Quickly maximize timely deliverables for real-time schemas. Dramatically maintain clicks-and-mortar solutions without functional solutions. BUSINESS PROPOSAL!1',\n",
       " 'Business Proposal The Revolution is Coming Leverage agile frameworks to provide a robust synopsis for high level overviews. Iterative approaches to corporate strategy foster collaborative thinking to further the overall value proposition. Organically grow the holistic world view of disruptive innovation via workplace diversity and empowerment. Bring to the table win-win survival strategies to ensure proactive domination. At the end of the day, going forward, a new normal that has evolved from generation X is on the runway heading towards a streamlined cloud solution. User generated content in real-time will have multiple touchpoints for offshoring. Capitalize on low hanging fruit to identify a ballpark value added activity to beta test. Override the digital divide with additional clickthroughs from DevOps. Nanotechnology immersion along the information highway will close the loop on focusing solely on the bottom line. Podcasting operational change management inside of workﬂows to establish a framework. Taking seamless key performance indicators ofﬂine to maximise the long tail. Keeping your eye on the ball while performing a deep dive on the start-up mentality to derive convergence on cross-platform integration. Collaboratively administrate empowered markets via plug-and-play networks. Dynamically procrastinate B2C users after installed base beneﬁts. Dramatically visualize customer directed convergence without revolutionary ROI. Efﬁciently unleash cross-media information without cross-media value. Quickly maximize timely deliverables for real-time schemas. Dramatically maintain clicks-and-mortar solutions without functional solutions. BUSINESS PROPOSAL!1',\n",
       " 'Business Proposal The Revolution is Coming Leverage agile frameworks to provide a robust synopsis for high level overviews. Iterative approaches to corporate strategy foster collaborative thinking to further the overall value proposition. Organically grow the holistic world view of disruptive innovation via workplace diversity and empowerment. Bring to the table win-win survival strategies to ensure proactive domination. At the end of the day, going forward, a new normal that has evolved from generation X is on the runway heading towards a streamlined cloud solution. User generated content in real-time will have multiple touchpoints for offshoring. Capitalize on low hanging fruit to identify a ballpark value added activity to beta test. Override the digital divide with additional clickthroughs from DevOps. Nanotechnology immersion along the information highway will close the loop on focusing solely on the bottom line. Podcasting operational change management inside of workﬂows to establish a framework. Taking seamless key performance indicators ofﬂine to maximise the long tail. Keeping your eye on the ball while performing a deep dive on the start-up mentality to derive convergence on cross-platform integration. Collaboratively administrate empowered markets via plug-and-play networks. Dynamically procrastinate B2C users after installed base beneﬁts. Dramatically visualize customer directed convergence without revolutionary ROI. Efﬁciently unleash cross-media information without cross-media value. Quickly maximize timely deliverables for real-time schemas. Dramatically maintain clicks-and-mortar solutions without functional solutions. BUSINESS PROPOSAL!1',\n",
       " 'Business Proposal The Revolution is Coming Leverage agile frameworks to provide a robust synopsis for high level overviews. Iterative approaches to corporate strategy foster collaborative thinking to further the overall value proposition. Organically grow the holistic world view of disruptive innovation via workplace diversity and empowerment. Bring to the table win-win survival strategies to ensure proactive domination. At the end of the day, going forward, a new normal that has evolved from generation X is on the runway heading towards a streamlined cloud solution. User generated content in real-time will have multiple touchpoints for offshoring. Capitalize on low hanging fruit to identify a ballpark value added activity to beta test. Override the digital divide with additional clickthroughs from DevOps. Nanotechnology immersion along the information highway will close the loop on focusing solely on the bottom line. Podcasting operational change management inside of workﬂows to establish a framework. Taking seamless key performance indicators ofﬂine to maximise the long tail. Keeping your eye on the ball while performing a deep dive on the start-up mentality to derive convergence on cross-platform integration. Collaboratively administrate empowered markets via plug-and-play networks. Dynamically procrastinate B2C users after installed base beneﬁts. Dramatically visualize customer directed convergence without revolutionary ROI. Efﬁciently unleash cross-media information without cross-media value. Quickly maximize timely deliverables for real-time schemas. Dramatically maintain clicks-and-mortar solutions without functional solutions. BUSINESS PROPOSAL!1',\n",
       " 'Business Proposal The Revolution is Coming Leverage agile frameworks to provide a robust synopsis for high level overviews. Iterative approaches to corporate strategy foster collaborative thinking to further the overall value proposition. Organically grow the holistic world view of disruptive innovation via workplace diversity and empowerment. Bring to the table win-win survival strategies to ensure proactive domination. At the end of the day, going forward, a new normal that has evolved from generation X is on the runway heading towards a streamlined cloud solution. User generated content in real-time will have multiple touchpoints for offshoring. Capitalize on low hanging fruit to identify a ballpark value added activity to beta test. Override the digital divide with additional clickthroughs from DevOps. Nanotechnology immersion along the information highway will close the loop on focusing solely on the bottom line. Podcasting operational change management inside of workﬂows to establish a framework. Taking seamless key performance indicators ofﬂine to maximise the long tail. Keeping your eye on the ball while performing a deep dive on the start-up mentality to derive convergence on cross-platform integration. Collaboratively administrate empowered markets via plug-and-play networks. Dynamically procrastinate B2C users after installed base beneﬁts. Dramatically visualize customer directed convergence without revolutionary ROI. Efﬁciently unleash cross-media information without cross-media value. Quickly maximize timely deliverables for real-time schemas. Dramatically maintain clicks-and-mortar solutions without functional solutions. BUSINESS PROPOSAL!1']"
      ]
     },
     "execution_count": 126,
     "metadata": {},
     "output_type": "execute_result"
    }
   ],
   "source": [
    "pdf_text"
   ]
  },
  {
   "cell_type": "code",
   "execution_count": 127,
   "id": "18af8d28-ee24-405c-97e2-182225bd7bb4",
   "metadata": {},
   "outputs": [
    {
     "name": "stdout",
     "output_type": "stream",
     "text": [
      "Business Proposal The Revolution is Coming Leverage agile frameworks to provide a robust synopsis for high level overviews. Iterative approaches to corporate strategy foster collaborative thinking to further the overall value proposition. Organically grow the holistic world view of disruptive innovation via workplace diversity and empowerment. Bring to the table win-win survival strategies to ensure proactive domination. At the end of the day, going forward, a new normal that has evolved from generation X is on the runway heading towards a streamlined cloud solution. User generated content in real-time will have multiple touchpoints for offshoring. Capitalize on low hanging fruit to identify a ballpark value added activity to beta test. Override the digital divide with additional clickthroughs from DevOps. Nanotechnology immersion along the information highway will close the loop on focusing solely on the bottom line. Podcasting operational change management inside of workﬂows to establish a framework. Taking seamless key performance indicators ofﬂine to maximise the long tail. Keeping your eye on the ball while performing a deep dive on the start-up mentality to derive convergence on cross-platform integration. Collaboratively administrate empowered markets via plug-and-play networks. Dynamically procrastinate B2C users after installed base beneﬁts. Dramatically visualize customer directed convergence without revolutionary ROI. Efﬁciently unleash cross-media information without cross-media value. Quickly maximize timely deliverables for real-time schemas. Dramatically maintain clicks-and-mortar solutions without functional solutions. BUSINESS PROPOSAL!1\n"
     ]
    }
   ],
   "source": [
    "print(pdf_text[2])"
   ]
  },
  {
   "cell_type": "code",
   "execution_count": null,
   "id": "16181c8d-6389-4847-ad28-9d1a7bffd72b",
   "metadata": {},
   "outputs": [],
   "source": []
  }
 ],
 "metadata": {
  "kernelspec": {
   "display_name": "Python 3 (ipykernel)",
   "language": "python",
   "name": "python3"
  },
  "language_info": {
   "codemirror_mode": {
    "name": "ipython",
    "version": 3
   },
   "file_extension": ".py",
   "mimetype": "text/x-python",
   "name": "python",
   "nbconvert_exporter": "python",
   "pygments_lexer": "ipython3",
   "version": "3.13.5"
  }
 },
 "nbformat": 4,
 "nbformat_minor": 5
}
