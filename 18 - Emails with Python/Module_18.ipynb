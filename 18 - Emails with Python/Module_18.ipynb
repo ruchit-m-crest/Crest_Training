{
 "cells": [
  {
   "cell_type": "code",
   "execution_count": 2,
   "id": "3d725460-0cdf-4b6e-b9e8-91f78ca3e1d0",
   "metadata": {},
   "outputs": [],
   "source": [
    "import  smtplib"
   ]
  },
  {
   "cell_type": "code",
   "execution_count": 3,
   "id": "ac6406a9-7b6b-4ba1-aa19-cb395a1909e6",
   "metadata": {},
   "outputs": [],
   "source": [
    "smtp_object = smtplib.SMTP('smtp.gmail.com',587)"
   ]
  },
  {
   "cell_type": "code",
   "execution_count": 4,
   "id": "9f38405b-1bb3-4e1a-861c-1e3e6fbf4e89",
   "metadata": {},
   "outputs": [
    {
     "data": {
      "text/plain": [
       "(250,\n",
       " b'smtp.gmail.com at your service, [123.201.110.130]\\nSIZE 36700160\\n8BITMIME\\nSTARTTLS\\nENHANCEDSTATUSCODES\\nPIPELINING\\nCHUNKING\\nSMTPUTF8')"
      ]
     },
     "execution_count": 4,
     "metadata": {},
     "output_type": "execute_result"
    }
   ],
   "source": [
    "smtp_object.ehlo()"
   ]
  },
  {
   "cell_type": "code",
   "execution_count": 5,
   "id": "20223ab8-9ea3-418e-bee9-c0636b243210",
   "metadata": {},
   "outputs": [
    {
     "data": {
      "text/plain": [
       "(220, b'2.0.0 Ready to start TLS')"
      ]
     },
     "execution_count": 5,
     "metadata": {},
     "output_type": "execute_result"
    }
   ],
   "source": [
    "smtp_object.starttls()"
   ]
  },
  {
   "cell_type": "code",
   "execution_count": 7,
   "id": "59d5df86-3021-4782-a23a-6faadd5d0e85",
   "metadata": {},
   "outputs": [],
   "source": [
    "import getpass"
   ]
  },
  {
   "cell_type": "code",
   "execution_count": 10,
   "id": "0714d195-7e9c-4ce9-b1c8-fb13f33c2e8c",
   "metadata": {},
   "outputs": [
    {
     "name": "stdin",
     "output_type": "stream",
     "text": [
      "Email: ········\n",
      "Password: ········\n"
     ]
    },
    {
     "data": {
      "text/plain": [
       "(235, b'2.7.0 Accepted')"
      ]
     },
     "execution_count": 10,
     "metadata": {},
     "output_type": "execute_result"
    }
   ],
   "source": [
    "email = getpass.getpass('Email:')\n",
    "password = getpass.getpass('Password:')\n",
    "smtp_object.login(email,password)"
   ]
  },
  {
   "cell_type": "code",
   "execution_count": 39,
   "id": "100b362a-e885-4ed8-be94-b102bdfb0e35",
   "metadata": {},
   "outputs": [
    {
     "name": "stdin",
     "output_type": "stream",
     "text": [
      "Enter Subject: rrr\n",
      "Enter Message: \n"
     ]
    },
    {
     "ename": "SMTPServerDisconnected",
     "evalue": "please run connect() first",
     "output_type": "error",
     "traceback": [
      "\u001b[1;31m---------------------------------------------------------------------------\u001b[0m",
      "\u001b[1;31mSMTPServerDisconnected\u001b[0m                    Traceback (most recent call last)",
      "Cell \u001b[1;32mIn[39], line 7\u001b[0m\n\u001b[0;32m      4\u001b[0m message \u001b[38;5;241m=\u001b[39m \u001b[38;5;28minput\u001b[39m(\u001b[38;5;124m'\u001b[39m\u001b[38;5;124mEnter Message:\u001b[39m\u001b[38;5;124m'\u001b[39m)\n\u001b[0;32m      5\u001b[0m msg \u001b[38;5;241m=\u001b[39m \u001b[38;5;124m'\u001b[39m\u001b[38;5;124mSubject: \u001b[39m\u001b[38;5;124m'\u001b[39m\u001b[38;5;241m+\u001b[39msubject\u001b[38;5;241m+\u001b[39m\u001b[38;5;124m'\u001b[39m\u001b[38;5;130;01m\\n\u001b[39;00m\u001b[38;5;124m'\u001b[39m\u001b[38;5;241m+\u001b[39mmessage\n\u001b[1;32m----> 7\u001b[0m smtp_object\u001b[38;5;241m.\u001b[39msendmail(from_add,to_add,msg)\n",
      "File \u001b[1;32m~\\anaconda3\\Lib\\smtplib.py:861\u001b[0m, in \u001b[0;36mSMTP.sendmail\u001b[1;34m(self, from_addr, to_addrs, msg, mail_options, rcpt_options)\u001b[0m\n\u001b[0;32m    797\u001b[0m \u001b[38;5;28;01mdef\u001b[39;00m\u001b[38;5;250m \u001b[39m\u001b[38;5;21msendmail\u001b[39m(\u001b[38;5;28mself\u001b[39m, from_addr, to_addrs, msg, mail_options\u001b[38;5;241m=\u001b[39m(),\n\u001b[0;32m    798\u001b[0m              rcpt_options\u001b[38;5;241m=\u001b[39m()):\n\u001b[0;32m    799\u001b[0m \u001b[38;5;250m    \u001b[39m\u001b[38;5;124;03m\"\"\"This command performs an entire mail transaction.\u001b[39;00m\n\u001b[0;32m    800\u001b[0m \n\u001b[0;32m    801\u001b[0m \u001b[38;5;124;03m    The arguments are:\u001b[39;00m\n\u001b[1;32m   (...)\u001b[0m\n\u001b[0;32m    859\u001b[0m \n\u001b[0;32m    860\u001b[0m \u001b[38;5;124;03m    \"\"\"\u001b[39;00m\n\u001b[1;32m--> 861\u001b[0m     \u001b[38;5;28mself\u001b[39m\u001b[38;5;241m.\u001b[39mehlo_or_helo_if_needed()\n\u001b[0;32m    862\u001b[0m     esmtp_opts \u001b[38;5;241m=\u001b[39m []\n\u001b[0;32m    863\u001b[0m     \u001b[38;5;28;01mif\u001b[39;00m \u001b[38;5;28misinstance\u001b[39m(msg, \u001b[38;5;28mstr\u001b[39m):\n",
      "File \u001b[1;32m~\\anaconda3\\Lib\\smtplib.py:611\u001b[0m, in \u001b[0;36mSMTP.ehlo_or_helo_if_needed\u001b[1;34m(self)\u001b[0m\n\u001b[0;32m    600\u001b[0m \u001b[38;5;250m\u001b[39m\u001b[38;5;124;03m\"\"\"Call self.ehlo() and/or self.helo() if needed.\u001b[39;00m\n\u001b[0;32m    601\u001b[0m \n\u001b[0;32m    602\u001b[0m \u001b[38;5;124;03mIf there has been no previous EHLO or HELO command this session, this\u001b[39;00m\n\u001b[1;32m   (...)\u001b[0m\n\u001b[0;32m    608\u001b[0m \u001b[38;5;124;03m                          the helo greeting.\u001b[39;00m\n\u001b[0;32m    609\u001b[0m \u001b[38;5;124;03m\"\"\"\u001b[39;00m\n\u001b[0;32m    610\u001b[0m \u001b[38;5;28;01mif\u001b[39;00m \u001b[38;5;28mself\u001b[39m\u001b[38;5;241m.\u001b[39mhelo_resp \u001b[38;5;129;01mis\u001b[39;00m \u001b[38;5;28;01mNone\u001b[39;00m \u001b[38;5;129;01mand\u001b[39;00m \u001b[38;5;28mself\u001b[39m\u001b[38;5;241m.\u001b[39mehlo_resp \u001b[38;5;129;01mis\u001b[39;00m \u001b[38;5;28;01mNone\u001b[39;00m:\n\u001b[1;32m--> 611\u001b[0m     \u001b[38;5;28;01mif\u001b[39;00m \u001b[38;5;129;01mnot\u001b[39;00m (\u001b[38;5;241m200\u001b[39m \u001b[38;5;241m<\u001b[39m\u001b[38;5;241m=\u001b[39m \u001b[38;5;28mself\u001b[39m\u001b[38;5;241m.\u001b[39mehlo()[\u001b[38;5;241m0\u001b[39m] \u001b[38;5;241m<\u001b[39m\u001b[38;5;241m=\u001b[39m \u001b[38;5;241m299\u001b[39m):\n\u001b[0;32m    612\u001b[0m         (code, resp) \u001b[38;5;241m=\u001b[39m \u001b[38;5;28mself\u001b[39m\u001b[38;5;241m.\u001b[39mhelo()\n\u001b[0;32m    613\u001b[0m         \u001b[38;5;28;01mif\u001b[39;00m \u001b[38;5;129;01mnot\u001b[39;00m (\u001b[38;5;241m200\u001b[39m \u001b[38;5;241m<\u001b[39m\u001b[38;5;241m=\u001b[39m code \u001b[38;5;241m<\u001b[39m\u001b[38;5;241m=\u001b[39m \u001b[38;5;241m299\u001b[39m):\n",
      "File \u001b[1;32m~\\anaconda3\\Lib\\smtplib.py:451\u001b[0m, in \u001b[0;36mSMTP.ehlo\u001b[1;34m(self, name)\u001b[0m\n\u001b[0;32m    446\u001b[0m \u001b[38;5;250m\u001b[39m\u001b[38;5;124;03m\"\"\" SMTP 'ehlo' command.\u001b[39;00m\n\u001b[0;32m    447\u001b[0m \u001b[38;5;124;03mHostname to send for this command defaults to the FQDN of the local\u001b[39;00m\n\u001b[0;32m    448\u001b[0m \u001b[38;5;124;03mhost.\u001b[39;00m\n\u001b[0;32m    449\u001b[0m \u001b[38;5;124;03m\"\"\"\u001b[39;00m\n\u001b[0;32m    450\u001b[0m \u001b[38;5;28mself\u001b[39m\u001b[38;5;241m.\u001b[39mesmtp_features \u001b[38;5;241m=\u001b[39m {}\n\u001b[1;32m--> 451\u001b[0m \u001b[38;5;28mself\u001b[39m\u001b[38;5;241m.\u001b[39mputcmd(\u001b[38;5;28mself\u001b[39m\u001b[38;5;241m.\u001b[39mehlo_msg, name \u001b[38;5;129;01mor\u001b[39;00m \u001b[38;5;28mself\u001b[39m\u001b[38;5;241m.\u001b[39mlocal_hostname)\n\u001b[0;32m    452\u001b[0m (code, msg) \u001b[38;5;241m=\u001b[39m \u001b[38;5;28mself\u001b[39m\u001b[38;5;241m.\u001b[39mgetreply()\n\u001b[0;32m    453\u001b[0m \u001b[38;5;66;03m# According to RFC1869 some (badly written)\u001b[39;00m\n\u001b[0;32m    454\u001b[0m \u001b[38;5;66;03m# MTA's will disconnect on an ehlo. Toss an exception if\u001b[39;00m\n\u001b[0;32m    455\u001b[0m \u001b[38;5;66;03m# that happens -ddm\u001b[39;00m\n",
      "File \u001b[1;32m~\\anaconda3\\Lib\\smtplib.py:378\u001b[0m, in \u001b[0;36mSMTP.putcmd\u001b[1;34m(self, cmd, args)\u001b[0m\n\u001b[0;32m    374\u001b[0m     s \u001b[38;5;241m=\u001b[39m s\u001b[38;5;241m.\u001b[39mreplace(\u001b[38;5;124m'\u001b[39m\u001b[38;5;130;01m\\n\u001b[39;00m\u001b[38;5;124m'\u001b[39m, \u001b[38;5;124m'\u001b[39m\u001b[38;5;130;01m\\\\\u001b[39;00m\u001b[38;5;124mn\u001b[39m\u001b[38;5;124m'\u001b[39m)\u001b[38;5;241m.\u001b[39mreplace(\u001b[38;5;124m'\u001b[39m\u001b[38;5;130;01m\\r\u001b[39;00m\u001b[38;5;124m'\u001b[39m, \u001b[38;5;124m'\u001b[39m\u001b[38;5;130;01m\\\\\u001b[39;00m\u001b[38;5;124mr\u001b[39m\u001b[38;5;124m'\u001b[39m)\n\u001b[0;32m    375\u001b[0m     \u001b[38;5;28;01mraise\u001b[39;00m \u001b[38;5;167;01mValueError\u001b[39;00m(\n\u001b[0;32m    376\u001b[0m         \u001b[38;5;124mf\u001b[39m\u001b[38;5;124m'\u001b[39m\u001b[38;5;124mcommand and arguments contain prohibited newline characters: \u001b[39m\u001b[38;5;132;01m{\u001b[39;00ms\u001b[38;5;132;01m}\u001b[39;00m\u001b[38;5;124m'\u001b[39m\n\u001b[0;32m    377\u001b[0m     )\n\u001b[1;32m--> 378\u001b[0m \u001b[38;5;28mself\u001b[39m\u001b[38;5;241m.\u001b[39msend(\u001b[38;5;124mf\u001b[39m\u001b[38;5;124m'\u001b[39m\u001b[38;5;132;01m{\u001b[39;00ms\u001b[38;5;132;01m}\u001b[39;00m\u001b[38;5;132;01m{\u001b[39;00mCRLF\u001b[38;5;132;01m}\u001b[39;00m\u001b[38;5;124m'\u001b[39m)\n",
      "File \u001b[1;32m~\\anaconda3\\Lib\\smtplib.py:365\u001b[0m, in \u001b[0;36mSMTP.send\u001b[1;34m(self, s)\u001b[0m\n\u001b[0;32m    363\u001b[0m         \u001b[38;5;28;01mraise\u001b[39;00m SMTPServerDisconnected(\u001b[38;5;124m'\u001b[39m\u001b[38;5;124mServer not connected\u001b[39m\u001b[38;5;124m'\u001b[39m)\n\u001b[0;32m    364\u001b[0m \u001b[38;5;28;01melse\u001b[39;00m:\n\u001b[1;32m--> 365\u001b[0m     \u001b[38;5;28;01mraise\u001b[39;00m SMTPServerDisconnected(\u001b[38;5;124m'\u001b[39m\u001b[38;5;124mplease run connect() first\u001b[39m\u001b[38;5;124m'\u001b[39m)\n",
      "\u001b[1;31mSMTPServerDisconnected\u001b[0m: please run connect() first"
     ]
    }
   ],
   "source": [
    "from_add = email\n",
    "to_add = email\n",
    "subject = input('Enter Subject:')\n",
    "message = input('Enter Message:')\n",
    "msg = 'Subject: '+subject+'\\n'+message\n",
    "\n",
    "smtp_object.sendmail(from_add,to_add,msg)"
   ]
  },
  {
   "cell_type": "code",
   "execution_count": 12,
   "id": "075651d4-77cd-4f7a-9f28-512adda761f6",
   "metadata": {},
   "outputs": [
    {
     "data": {
      "text/plain": [
       "(221,\n",
       " b'2.0.0 closing connection d2e1a72fcca58-74eb9e06890sm12021188b3a.48 - gsmtp')"
      ]
     },
     "execution_count": 12,
     "metadata": {},
     "output_type": "execute_result"
    }
   ],
   "source": [
    "smtp_object.quit()"
   ]
  },
  {
   "cell_type": "markdown",
   "id": "12d519ae-3e50-4c8c-850b-62de4322edb1",
   "metadata": {},
   "source": [
    "## Receiving Mails"
   ]
  },
  {
   "cell_type": "code",
   "execution_count": 13,
   "id": "81de539d-101d-41db-8e2b-9be27ec163ab",
   "metadata": {},
   "outputs": [],
   "source": [
    "import imaplib"
   ]
  },
  {
   "cell_type": "code",
   "execution_count": 15,
   "id": "cabe7760-3c3b-433d-8aa1-9b30544f03fd",
   "metadata": {},
   "outputs": [],
   "source": [
    "M = imaplib.IMAP4_SSL('imap.gmail.com')"
   ]
  },
  {
   "cell_type": "code",
   "execution_count": 16,
   "id": "7a888a20-7cfc-407c-8192-6086e7c84f88",
   "metadata": {},
   "outputs": [],
   "source": [
    "import getpass"
   ]
  },
  {
   "cell_type": "code",
   "execution_count": 18,
   "id": "f480ee90-dfc5-481d-9e66-7286d72c3dea",
   "metadata": {},
   "outputs": [
    {
     "data": {
      "text/plain": [
       "('OK', [b'ruchit.m@crestinfosystems.com authenticated (Success)'])"
      ]
     },
     "execution_count": 18,
     "metadata": {},
     "output_type": "execute_result"
    }
   ],
   "source": [
    "email = 'ruchit.m@crestinfosystems.com'\n",
    "password = 'jnvl uwuu rgtg pkmv'\n",
    "M.login(email,password)"
   ]
  },
  {
   "cell_type": "code",
   "execution_count": 19,
   "id": "b3ab6713-4b13-48a7-813e-a7576a2fa069",
   "metadata": {},
   "outputs": [
    {
     "data": {
      "text/plain": [
       "('OK',\n",
       " [b'(\\\\HasNoChildren) \"/\" \"INBOX\"',\n",
       "  b'(\\\\HasChildren \\\\Noselect) \"/\" \"[Gmail]\"',\n",
       "  b'(\\\\All \\\\HasNoChildren) \"/\" \"[Gmail]/All Mail\"',\n",
       "  b'(\\\\Drafts \\\\HasNoChildren) \"/\" \"[Gmail]/Drafts\"',\n",
       "  b'(\\\\HasNoChildren \\\\Important) \"/\" \"[Gmail]/Important\"',\n",
       "  b'(\\\\HasNoChildren \\\\Sent) \"/\" \"[Gmail]/Sent Mail\"',\n",
       "  b'(\\\\HasNoChildren \\\\Junk) \"/\" \"[Gmail]/Spam\"',\n",
       "  b'(\\\\Flagged \\\\HasNoChildren) \"/\" \"[Gmail]/Starred\"',\n",
       "  b'(\\\\HasNoChildren \\\\Trash) \"/\" \"[Gmail]/Trash\"'])"
      ]
     },
     "execution_count": 19,
     "metadata": {},
     "output_type": "execute_result"
    }
   ],
   "source": [
    "M.list()"
   ]
  },
  {
   "cell_type": "code",
   "execution_count": 20,
   "id": "ab358c11-3484-4377-9b2e-b52063453f7a",
   "metadata": {},
   "outputs": [
    {
     "data": {
      "text/plain": [
       "('OK', [b'27'])"
      ]
     },
     "execution_count": 20,
     "metadata": {},
     "output_type": "execute_result"
    }
   ],
   "source": [
    "M.select('inbox')"
   ]
  },
  {
   "cell_type": "code",
   "execution_count": 24,
   "id": "5636fe91-6b47-4dc6-92dd-df2d11ae5562",
   "metadata": {},
   "outputs": [],
   "source": [
    "typ ,data = M.search(None,'SUBJECT \"Test mail with Python\"')"
   ]
  },
  {
   "cell_type": "code",
   "execution_count": 25,
   "id": "aafd0fcc-e172-4e1f-97b0-73b6ecc98a05",
   "metadata": {},
   "outputs": [
    {
     "data": {
      "text/plain": [
       "'OK'"
      ]
     },
     "execution_count": 25,
     "metadata": {},
     "output_type": "execute_result"
    }
   ],
   "source": [
    "typ"
   ]
  },
  {
   "cell_type": "code",
   "execution_count": 26,
   "id": "9d3c5560-5218-4b83-b6d4-2f7414a9911e",
   "metadata": {},
   "outputs": [
    {
     "data": {
      "text/plain": [
       "[b'27']"
      ]
     },
     "execution_count": 26,
     "metadata": {},
     "output_type": "execute_result"
    }
   ],
   "source": [
    "data "
   ]
  },
  {
   "cell_type": "code",
   "execution_count": 27,
   "id": "b0971bb3-85f1-4837-8bdf-17f33ce66bf5",
   "metadata": {},
   "outputs": [],
   "source": [
    "email_id = data[0]"
   ]
  },
  {
   "cell_type": "code",
   "execution_count": 28,
   "id": "f1293659-c9fb-4e8d-8982-41067f2d6b57",
   "metadata": {},
   "outputs": [],
   "source": [
    "result, email_data = M.fetch(email_id,\"(RFC822)\")"
   ]
  },
  {
   "cell_type": "code",
   "execution_count": 31,
   "id": "570132a1-27a7-4720-95da-9564a628a729",
   "metadata": {},
   "outputs": [],
   "source": [
    "raw = email_data[0][1]"
   ]
  },
  {
   "cell_type": "code",
   "execution_count": 32,
   "id": "b566d603-2b19-4974-a243-85687e6f6709",
   "metadata": {},
   "outputs": [],
   "source": [
    "raw_string = raw.decode('utf-8')"
   ]
  },
  {
   "cell_type": "code",
   "execution_count": 33,
   "id": "cc4de6a0-4ba8-4340-9591-526172f07ada",
   "metadata": {},
   "outputs": [],
   "source": [
    "import email"
   ]
  },
  {
   "cell_type": "code",
   "execution_count": 34,
   "id": "c18d6d16-3591-4338-ae95-b3b0cb017d48",
   "metadata": {},
   "outputs": [],
   "source": [
    "email_msg = email.message_from_string(raw_string)"
   ]
  },
  {
   "cell_type": "code",
   "execution_count": 36,
   "id": "47bd4ec8-c671-4806-b235-cf2e87726f56",
   "metadata": {},
   "outputs": [
    {
     "name": "stdout",
     "output_type": "stream",
     "text": [
      "b'Hello! \\r\\n'\n"
     ]
    }
   ],
   "source": [
    "for part in email_msg.walk():\n",
    "    if part.get_content_type() == \"text/plain\":\n",
    "        body = part.get_payload(decode=True)\n",
    "        print(body)"
   ]
  },
  {
   "cell_type": "code",
   "execution_count": null,
   "id": "2b4223db-f0e9-47c0-9845-49767c1cc1fe",
   "metadata": {},
   "outputs": [],
   "source": []
  },
  {
   "cell_type": "code",
   "execution_count": null,
   "id": "fcdcbc37-106d-4eb7-b384-240bbba57229",
   "metadata": {},
   "outputs": [],
   "source": []
  }
 ],
 "metadata": {
  "kernelspec": {
   "display_name": "Python 3 (ipykernel)",
   "language": "python",
   "name": "python3"
  },
  "language_info": {
   "codemirror_mode": {
    "name": "ipython",
    "version": 3
   },
   "file_extension": ".py",
   "mimetype": "text/x-python",
   "name": "python",
   "nbconvert_exporter": "python",
   "pygments_lexer": "ipython3",
   "version": "3.13.5"
  }
 },
 "nbformat": 4,
 "nbformat_minor": 5
}
