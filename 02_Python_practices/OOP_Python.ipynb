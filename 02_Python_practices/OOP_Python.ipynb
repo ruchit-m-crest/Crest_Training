{
 "cells": [
  {
   "cell_type": "markdown",
   "id": "7371a979-4470-4bdd-bfde-282cefb9e6f5",
   "metadata": {},
   "source": [
    "## Inner class"
   ]
  },
  {
   "cell_type": "code",
   "execution_count": 11,
   "id": "c4bb52a0-7425-4e09-a7d3-e67f811bb415",
   "metadata": {},
   "outputs": [
    {
     "name": "stdout",
     "output_type": "stream",
     "text": [
      "Ruchit 40\n",
      "HP i5 16 GB\n",
      "Manav 76\n",
      "HP i5 16 GB\n"
     ]
    }
   ],
   "source": [
    "class Students:\n",
    "    def __init__(self,name,roll):\n",
    "        self.name = name\n",
    "        self.roll = roll\n",
    "        self.lap = self.Laptop()\n",
    "\n",
    "    def show(self):\n",
    "        print(self.name, self.roll)\n",
    "        self.lap.show()\n",
    "\n",
    "    class Laptop:\n",
    "\n",
    "        def __init__(self):\n",
    "            self.brand = 'HP'\n",
    "            self.cpu = 'i5'\n",
    "            self.ram = '16 GB'\n",
    "\n",
    "        def show(self):\n",
    "            print(self.brand, self.cpu, self.ram)\n",
    "\n",
    "s1 = Students('Ruchit',40)\n",
    "s2 = Students('Manav',76)\n",
    "\n",
    "s1.show()\n",
    "s2.show()\n",
    "\n"
   ]
  },
  {
   "cell_type": "markdown",
   "id": "00fd2461-c561-47b8-b1ca-d6829a5e3dfc",
   "metadata": {},
   "source": [
    "## Inheritance"
   ]
  },
  {
   "cell_type": "code",
   "execution_count": 15,
   "id": "9ea0dd66-d08b-4cf7-9fc8-a8796647b309",
   "metadata": {},
   "outputs": [
    {
     "name": "stdout",
     "output_type": "stream",
     "text": [
      "Feature1 Working...\n",
      "Feature2 working...\n",
      "Feature1 Working...\n",
      "Feature3 Working...\n"
     ]
    }
   ],
   "source": [
    "class A:\n",
    "    def feature1(self):\n",
    "        print('Feature1 Working...')\n",
    "    def feature2(self):\n",
    "        print('Feature2 working...')\n",
    "\n",
    "class B(A):\n",
    "    def feature3(self):\n",
    "        print('Feature3 Working...')\n",
    "    def feature4(self):\n",
    "        print('Feature4 working...')\n",
    "        \n",
    "a1 = A()\n",
    "\n",
    "a1.feature1()\n",
    "a1.feature2()\n",
    "\n",
    "b1 = B()\n",
    "\n",
    "b1.feature1()\n",
    "b1.feature3()"
   ]
  },
  {
   "cell_type": "markdown",
   "id": "707e5ab4-0828-497f-9369-b8a9c7af7ee4",
   "metadata": {},
   "source": [
    "## Constructor"
   ]
  },
  {
   "cell_type": "code",
   "execution_count": 22,
   "id": "be96b9e3-b49a-49fc-881e-3b7281f0a6e5",
   "metadata": {},
   "outputs": [
    {
     "name": "stdout",
     "output_type": "stream",
     "text": [
      "In a init method of A\n",
      "In a init method of B\n"
     ]
    }
   ],
   "source": [
    "class A:\n",
    "    # constructor of class\n",
    "    def __init__(self):\n",
    "        print('In a init method of A')\n",
    "        \n",
    "    def feature1(self):\n",
    "        print('Feature1 Working...')\n",
    "    def feature2(self):\n",
    "        print('Feature2 working...')\n",
    "\n",
    "class B(A):\n",
    "    \n",
    "    def __init__(self):\n",
    "        #super().__init__() \n",
    "        print('In a init method of B')\n",
    "    \n",
    "    def feature3(self):\n",
    "        print('Feature3 Working...')\n",
    "    def feature4(self):\n",
    "        print('Feature4 working...')\n",
    "        \n",
    "#a1 = A()\n",
    "b1 = B() #object of B can also call constructor of A untill B do not have it's own constructor"
   ]
  },
  {
   "cell_type": "code",
   "execution_count": 26,
   "id": "b6f52418-8ca1-453e-93aa-4d56bf18b789",
   "metadata": {},
   "outputs": [
    {
     "name": "stdout",
     "output_type": "stream",
     "text": [
      "In a init method of A\n",
      "In a init of C\n",
      "Feature2 working...\n"
     ]
    }
   ],
   "source": [
    "class A:\n",
    "    # constructor of class\n",
    "    def __init__(self):\n",
    "        print('In a init method of A')\n",
    "        \n",
    "    def feature1(self):\n",
    "        print('Feature1 Working...')\n",
    "    def feature2(self):\n",
    "        print('Feature2 working...')\n",
    "\n",
    "class B:\n",
    "    \n",
    "    def __init__(self):\n",
    "        #super().__init__() \n",
    "        print('In a init method of B')\n",
    "    \n",
    "    def feature3(self):\n",
    "        print('Feature3 Working...')\n",
    "    def feature4(self):\n",
    "        print('Feature4 working...')\n",
    "\n",
    "class C(A,B):\n",
    "\n",
    "    def __init__(self):\n",
    "        super().__init__()\n",
    "        print('In a init of C')\n",
    "    def feat(self):\n",
    "        super().feature2()\n",
    "        \n",
    "c1 = C()\n",
    "c1.feat()\n",
    "#Biased towads A"
   ]
  },
  {
   "cell_type": "code",
   "execution_count": null,
   "id": "85b40648-42b6-44e2-b919-5bfbf1a578a0",
   "metadata": {},
   "outputs": [],
   "source": []
  }
 ],
 "metadata": {
  "kernelspec": {
   "display_name": "Python 3 (ipykernel)",
   "language": "python",
   "name": "python3"
  },
  "language_info": {
   "codemirror_mode": {
    "name": "ipython",
    "version": 3
   },
   "file_extension": ".py",
   "mimetype": "text/x-python",
   "name": "python",
   "nbconvert_exporter": "python",
   "pygments_lexer": "ipython3",
   "version": "3.13.5"
  }
 },
 "nbformat": 4,
 "nbformat_minor": 5
}
