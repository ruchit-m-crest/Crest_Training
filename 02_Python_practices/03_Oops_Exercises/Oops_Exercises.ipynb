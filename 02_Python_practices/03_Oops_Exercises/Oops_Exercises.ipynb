{
 "cells": [
  {
   "cell_type": "markdown",
   "id": "ee72ecdc-a3b3-4841-89da-042c1f8b4222",
   "metadata": {},
   "source": [
    "## 1.Python program to build flashcard using class in Python"
   ]
  },
  {
   "cell_type": "code",
   "execution_count": 6,
   "id": "6822c1c8-c2e9-43bb-bbb3-e4d304c744f1",
   "metadata": {},
   "outputs": [
    {
     "name": "stdout",
     "output_type": "stream",
     "text": [
      "welcome to fruit quiz \n",
      "What is the color of banana\n"
     ]
    },
    {
     "name": "stdin",
     "output_type": "stream",
     "text": [
      " +\n"
     ]
    },
    {
     "name": "stdout",
     "output_type": "stream",
     "text": [
      "Incorrect answer\n"
     ]
    },
    {
     "name": "stdin",
     "output_type": "stream",
     "text": [
      "enter 0 to play again:  \n"
     ]
    },
    {
     "ename": "ValueError",
     "evalue": "invalid literal for int() with base 10: ''",
     "output_type": "error",
     "traceback": [
      "\u001b[1;31m---------------------------------------------------------------------------\u001b[0m",
      "\u001b[1;31mValueError\u001b[0m                                Traceback (most recent call last)",
      "Cell \u001b[1;32mIn[6], line 32\u001b[0m\n\u001b[0;32m     30\u001b[0m \u001b[38;5;28mprint\u001b[39m(\u001b[38;5;124m\"\u001b[39m\u001b[38;5;124mwelcome to fruit quiz \u001b[39m\u001b[38;5;124m\"\u001b[39m)\n\u001b[0;32m     31\u001b[0m fc\u001b[38;5;241m=\u001b[39mflashcard()\n\u001b[1;32m---> 32\u001b[0m fc\u001b[38;5;241m.\u001b[39mquiz()\n",
      "Cell \u001b[1;32mIn[6], line 25\u001b[0m, in \u001b[0;36mflashcard.quiz\u001b[1;34m(self)\u001b[0m\n\u001b[0;32m     22\u001b[0m \u001b[38;5;28;01melse\u001b[39;00m:\n\u001b[0;32m     23\u001b[0m     \u001b[38;5;28mprint\u001b[39m(\u001b[38;5;124m'\u001b[39m\u001b[38;5;124mIncorrect answer\u001b[39m\u001b[38;5;124m'\u001b[39m)\n\u001b[1;32m---> 25\u001b[0m option \u001b[38;5;241m=\u001b[39m \u001b[38;5;28mint\u001b[39m(\u001b[38;5;28minput\u001b[39m(\u001b[38;5;124m'\u001b[39m\u001b[38;5;124menter 0 to play again: \u001b[39m\u001b[38;5;124m'\u001b[39m))\n\u001b[0;32m     27\u001b[0m \u001b[38;5;28;01mif\u001b[39;00m(option):\n\u001b[0;32m     28\u001b[0m              \u001b[38;5;28;01mbreak\u001b[39;00m\n",
      "\u001b[1;31mValueError\u001b[0m: invalid literal for int() with base 10: ''"
     ]
    }
   ],
   "source": [
    "import random\n",
    "\n",
    "class flashcard:\n",
    "    def __init__(self):\n",
    "      \n",
    "        self.fruits={'apple':'red',\n",
    "                     'orange':'orange',\n",
    "                     'watermelon':'green',\n",
    "                     'banana':'yellow'}\n",
    "        \n",
    "    def quiz(self):\n",
    "        while (True):\n",
    "          \n",
    "            fruit, color = random.choice(list(self.fruits.items()))\n",
    "            \n",
    "            print(\"What is the color of {}\".format(fruit))\n",
    "            user_answer = input()\n",
    "\n",
    "            if(user_answer.lower() == color):\n",
    "                print('correct answer')\n",
    "\n",
    "            else:\n",
    "                print('Incorrect answer')\n",
    "\n",
    "            option = int(input('enter 0 to play again: '))\n",
    "                         \n",
    "            if(option):\n",
    "                         break\n",
    "                        \n",
    "print(\"welcome to fruit quiz \")\n",
    "fc=flashcard()\n",
    "fc.quiz()         \n",
    "\n",
    "\n",
    "            "
   ]
  },
  {
   "cell_type": "markdown",
   "id": "571a5250-3a18-465d-bc87-2bc4db87cc12",
   "metadata": {},
   "source": [
    "## 2.Shuffle a deck of card in Oops with Python"
   ]
  },
  {
   "cell_type": "code",
   "execution_count": null,
   "id": "2d07dc39-d7e2-4ae2-9046-c3cf74dd6f81",
   "metadata": {},
   "outputs": [],
   "source": [
    "# Import required modules\n",
    "from random import shuffle\n",
    "\n",
    "\n",
    "# Define a class to create\n",
    "# all type of cards\n",
    "class Cards:\n",
    "    global suites, values\n",
    "    suites = ['Hearts', 'Diamonds', 'Clubs', 'Spades']\n",
    "    values = ['A', '2', '3', '4', '5', '6', '7', '8', '9', '10', 'J', 'Q', 'K']\n",
    "\n",
    "    def __init__(self):\n",
    "        pass\n",
    "\n",
    "\n",
    "# Define a class to categorize each card\n",
    "class Deck(Cards):\n",
    "    def __init__(self):\n",
    "        Cards.__init__(self)\n",
    "        self.mycardset = []\n",
    "        for n in suites:\n",
    "            for c in values:\n",
    "                self.mycardset.append((c)+\" \"+\"of\"+\" \"+n)\n",
    "\n",
    "    # Method to remove a card from the deck\n",
    "    def popCard(self):\n",
    "        if len(self.mycardset) == 0:\n",
    "            return \"NO CARDS CAN BE POPPED FURTHER\"\n",
    "        else:\n",
    "            cardpopped = self.mycardset.pop()\n",
    "            print(\"Card removed is\", cardpopped)\n",
    "\n",
    "\n",
    "# Define a class gto shuffle the deck of cards\n",
    "class ShuffleCards(Deck):\n",
    "\n",
    "    # Constructor\n",
    "    def __init__(self):\n",
    "        Deck.__init__(self)\n",
    "\n",
    "    # Method to shuffle cards\n",
    "    def shuffle(self):\n",
    "        if len(self.mycardset) < 52:\n",
    "            print(\"cannot shuffle the cards\")\n",
    "        else:\n",
    "            shuffle(self.mycardset)\n",
    "            return self.mycardset\n",
    "\n",
    "    # Method to remove a card from the deck\n",
    "    def popCard(self):\n",
    "        if len(self.mycardset) == 0:\n",
    "            return \"NO CARDS CAN BE POPPED FURTHER\"\n",
    "        else:\n",
    "            cardpopped = self.mycardset.pop()\n",
    "            return (cardpopped)\n",
    "\n",
    "\n",
    "# Driver Code\n",
    "# Creating objects\n",
    "objCards = Cards()\n",
    "objDeck = Deck()\n",
    "\n",
    "# Player 1\n",
    "player1Cards = objDeck.mycardset\n",
    "print('\\n Player 1 Cards: \\n', player1Cards)\n",
    "\n",
    "# Creating object\n",
    "objShuffleCards = ShuffleCards()\n",
    "\n",
    "# Player 2\n",
    "player2Cards = objShuffleCards.shuffle()\n",
    "print('\\n Player 2 Cards: \\n', player2Cards)\n",
    "\n",
    "# Remove some cards\n",
    "print('\\n Removing a card from the deck:', objShuffleCards.popCard())\n",
    "print('\\n Removing another card from the deck:', objShuffleCards.popCard())"
   ]
  },
  {
   "cell_type": "markdown",
   "id": "8117441a-08f3-41a1-9939-7f88badc551f",
   "metadata": {},
   "source": [
    "## 3.Create an empty class in Python"
   ]
  },
  {
   "cell_type": "code",
   "execution_count": 2,
   "id": "89f7061b-01a6-4630-ac50-b40ef34d22a0",
   "metadata": {},
   "outputs": [
    {
     "name": "stdout",
     "output_type": "stream",
     "text": [
      "obj1 Details:\n",
      "Name: Ruchit\n",
      "Office: Crest infosystems\n",
      "\n",
      "obj2 Details:\n",
      "Name: Priyam\n",
      "Office: Crest iinfosystems\n",
      "Phone: 123456789\n"
     ]
    }
   ],
   "source": [
    "class Employee:\n",
    "    pass\n",
    "\n",
    "obj1 = Employee()\n",
    "obj1.name = 'Ruchit'\n",
    "obj1.office = 'Crest infosystems'\n",
    "\n",
    "# Object 2 details\n",
    "obj2 = Employee()\n",
    "obj2.name = 'Priyam'\n",
    "obj2.office = 'Crest iinfosystems'\n",
    "obj2.phone = 123456789\n",
    "\n",
    "\n",
    "# Printing details\n",
    "print(\"obj1 Details:\")\n",
    "print(\"Name:\", obj1.name)\n",
    "print(\"Office:\", obj1.office)\n",
    "print()\n",
    "\n",
    "print(\"obj2 Details:\")\n",
    "print(\"Name:\", obj2.name)\n",
    "print(\"Office:\", obj2.office)\n",
    "print(\"Phone:\", obj2.phone)\n"
   ]
  },
  {
   "cell_type": "code",
   "execution_count": null,
   "id": "045f2ef3-750e-499a-8af6-5e346b68e73a",
   "metadata": {},
   "outputs": [],
   "source": []
  }
 ],
 "metadata": {
  "kernelspec": {
   "display_name": "Python 3 (ipykernel)",
   "language": "python",
   "name": "python3"
  },
  "language_info": {
   "codemirror_mode": {
    "name": "ipython",
    "version": 3
   },
   "file_extension": ".py",
   "mimetype": "text/x-python",
   "name": "python",
   "nbconvert_exporter": "python",
   "pygments_lexer": "ipython3",
   "version": "3.13.5"
  }
 },
 "nbformat": 4,
 "nbformat_minor": 5
}
