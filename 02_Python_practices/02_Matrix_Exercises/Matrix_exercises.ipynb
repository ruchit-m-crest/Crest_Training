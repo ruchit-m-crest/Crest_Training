{
 "cells": [
  {
   "cell_type": "markdown",
   "id": "20d7f84c-d5a3-4199-9427-b100b1c86b48",
   "metadata": {},
   "source": [
    "## 1.Python program to a Sort Matrix by index-value equality count"
   ]
  },
  {
   "cell_type": "code",
   "execution_count": 1,
   "id": "362dd109-50c2-49d5-96a8-74ca5c9adb36",
   "metadata": {},
   "outputs": [
    {
     "name": "stdout",
     "output_type": "stream",
     "text": [
      "The original list is : [[3, 1, 2, 5, 4], [0, 1, 2, 3, 4], [6, 5, 4, 3, 2], [0, 5, 4, 2]]\n",
      "Sorted List : [[6, 5, 4, 3, 2], [0, 5, 4, 2], [3, 1, 2, 5, 4], [0, 1, 2, 3, 4]]\n"
     ]
    }
   ],
   "source": [
    "def get_idx_ele_count(row):\n",
    "\n",
    "    # getting required count\n",
    "    # element and index compared, if equal added\n",
    "    # in list, length computed using len()\n",
    "    return len([ele for idx, ele in enumerate(row) if ele == idx])\n",
    "\n",
    "\n",
    "# initializing list\n",
    "test_list = [[3, 1, 2, 5, 4], [0, 1, 2, 3, 4], \n",
    "             [6, 5, 4, 3, 2], [0, 5, 4, 2]]\n",
    "\n",
    "# printing original list\n",
    "print(\"The original list is : \" + str(test_list))\n",
    "\n",
    "# inplace sorting using sort()\n",
    "test_list.sort(key=get_idx_ele_count)\n",
    "\n",
    "# printing result\n",
    "print(\"Sorted List : \" + str(test_list))"
   ]
  },
  {
   "cell_type": "markdown",
   "id": "3806dc74-1fed-4828-92d2-1dc64b06ed3a",
   "metadata": {},
   "source": [
    "## 2.Python Program to Reverse Every Kth row in a Matrix"
   ]
  },
  {
   "cell_type": "code",
   "execution_count": 3,
   "id": "566583df-d447-4edb-aa1d-b78b461d0c4d",
   "metadata": {},
   "outputs": [
    {
     "name": "stdout",
     "output_type": "stream",
     "text": [
      "Afer Reversing the Kth row: [[5, 3, 2], [8, 6, 3], [2, 5, 3], [3, 6], [3, 7, 4], [9, 2]]\n"
     ]
    }
   ],
   "source": [
    "a = [[5, 3, 2], [8, 6, 3], [3, 5, 2], [3, 6], [3, 7, 4], [2, 9]]\n",
    "k = 3\n",
    "\n",
    "res = []\n",
    "\n",
    "for i,ele in enumerate(a):\n",
    "\n",
    "    if(i+1)%k==0:\n",
    "        res.append(list(reversed(ele)))\n",
    "                   \n",
    "    else:\n",
    "        res.append(ele)\n",
    "\n",
    "print('Afer Reversing the Kth row: ' +  str(res))"
   ]
  },
  {
   "cell_type": "code",
   "execution_count": 7,
   "id": "b0106773-f503-41b8-b7ef-1bd9dbf34707",
   "metadata": {},
   "outputs": [
    {
     "name": "stdout",
     "output_type": "stream",
     "text": [
      "[[5, 3, 2], [8, 6, 3], [2, 5, 3], [3, 6], [3, 7, 4], [9, 2]]\n"
     ]
    }
   ],
   "source": [
    "a = [[5, 3, 2], [8, 6, 3], [3, 5, 2], [3, 6], [3, 7, 4], [2, 9]]\n",
    "k = 3\n",
    "\n",
    "res = [ele[::-1] if (i+1)%k ==0 else ele for i,ele in enumerate(a)  ]\n",
    "\n",
    "print(str(res))\n",
    "\n"
   ]
  },
  {
   "cell_type": "markdown",
   "id": "ca8ed8f4-8c23-4adb-8679-6f3b6b44c4a3",
   "metadata": {},
   "source": [
    "## 3.Python Program to Convert String Matrix Representation to Matrix\n"
   ]
  },
  {
   "cell_type": "code",
   "execution_count": 18,
   "id": "c0a41a22-9b9a-44c8-958f-caa3fdb1347c",
   "metadata": {},
   "outputs": [
    {
     "name": "stdout",
     "output_type": "stream",
     "text": [
      "[['gfg', 'is'], ['best', 'for'], ['all', 'geeks']]\n"
     ]
    }
   ],
   "source": [
    "test_str = \"[gfg,is],[best,for],[all,geeks]\"\n",
    "\n",
    "rows = test_str[1:-1].split(\"],[\")\n",
    "\n",
    "mat = []\n",
    "for row in rows:\n",
    "    ele = row.split(\",\")\n",
    "    mat.append(ele)\n",
    "\n",
    "print(mat)"
   ]
  },
  {
   "cell_type": "markdown",
   "id": "3c08d981-aad3-499c-9a55-32d21218e7b9",
   "metadata": {},
   "source": [
    "## 4.Count the frequency of matrix row length"
   ]
  },
  {
   "cell_type": "code",
   "execution_count": 33,
   "id": "ac8e4f1d-0fd6-4111-aeed-92fa4923160f",
   "metadata": {},
   "outputs": [
    {
     "name": "stdout",
     "output_type": "stream",
     "text": [
      "The original list is : [[6, 3, 1], [8, 9], [2], [10, 12, 7], [4, 11]]\n",
      "{3: 3, 2: 1, 1: 1}\n"
     ]
    }
   ],
   "source": [
    "test_list = [[6, 3, 1], [8, 9], [2],[10, 12, 7], [4, 11]]\n",
    "\n",
    "print(\"The original list is : \" + str(test_list))\n",
    "\n",
    "res = dict()\n",
    "for sub in test_list:\n",
    "\n",
    "    if len(sub) not in res:\n",
    "        res[len(sub)] = 1\n",
    "\n",
    "    else:\n",
    "        res[len(res)] += 1\n",
    "\n",
    "print(res)"
   ]
  },
  {
   "cell_type": "markdown",
   "id": "b038cd35-2d79-4857-abd2-0ef01d645854",
   "metadata": {},
   "source": [
    "## 5.Convert Integer Matrix to String Matrix"
   ]
  },
  {
   "cell_type": "code",
   "execution_count": 40,
   "id": "c23d93f8-4a9b-4baa-8b3a-6ac83cdcf7f1",
   "metadata": {},
   "outputs": [
    {
     "name": "stdout",
     "output_type": "stream",
     "text": [
      "The original list : [[4, 5, 7], [10, 8, 3], [19, 4, 6], [9, 3, 6]]\n",
      "The data type converted Matrix : [['4', '5', '7'], ['10', '8', '3'], ['19', '4', '6'], ['9', '3', '6']]\n"
     ]
    }
   ],
   "source": [
    "test_list = [[4, 5, 7], [10, 8, 3], [19, 4, 6], [9, 3, 6]]\n",
    "\n",
    "print(\"The original list : \" + str(test_list))\n",
    "\n",
    "res = [[str(ele) for ele in sub]for sub in test_list]\n",
    "\n",
    "print(\"The data type converted Matrix : \" + str(res))"
   ]
  },
  {
   "cell_type": "code",
   "execution_count": 44,
   "id": "baca567c-1c0f-4f23-9b34-2b9a6a1b2c1b",
   "metadata": {},
   "outputs": [
    {
     "name": "stdout",
     "output_type": "stream",
     "text": [
      "The original list : [[4, 5, 7], [10, 8, 3], [19, 4, 6], [9, 3, 6]]\n",
      "The data type converted Matrix : [['4', '5', '7'], ['10', '8', '3'], ['19', '4', '6'], ['9', '3', '6']]\n"
     ]
    }
   ],
   "source": [
    "test_list = [[4, 5, 7], [10, 8, 3], [19, 4, 6], [9, 3, 6]]\n",
    "\n",
    "print(\"The original list : \" + str(test_list))\n",
    "\n",
    "sub_list = []\n",
    "for sub in test_list:\n",
    "    str_row = []\n",
    "    \n",
    "    for ele in sub:\n",
    "        str_row.append(str(ele))\n",
    "        \n",
    "    sub_list.append(str_row)\n",
    "\n",
    "print(\"The data type converted Matrix : \" + str(sub_list))"
   ]
  },
  {
   "cell_type": "markdown",
   "id": "4cfa89a8-c254-48be-9f92-fb02f54e34ea",
   "metadata": {},
   "source": [
    "## 6.Python Program to Convert Tuple Matrix to Tuple List"
   ]
  },
  {
   "cell_type": "code",
   "execution_count": null,
   "id": "0f2b87ff-d73a-4b5e-b2dc-af0d6e551c2f",
   "metadata": {},
   "outputs": [],
   "source": [
    "test_list = [[(4, 5)], [(10, 13)]]\n",
    "\n",
    "print(\"The original list is : \" + str(test_list))\n",
    "\n"
   ]
  }
 ],
 "metadata": {
  "kernelspec": {
   "display_name": "Python 3 (ipykernel)",
   "language": "python",
   "name": "python3"
  },
  "language_info": {
   "codemirror_mode": {
    "name": "ipython",
    "version": 3
   },
   "file_extension": ".py",
   "mimetype": "text/x-python",
   "name": "python",
   "nbconvert_exporter": "python",
   "pygments_lexer": "ipython3",
   "version": "3.13.5"
  }
 },
 "nbformat": 4,
 "nbformat_minor": 5
}
