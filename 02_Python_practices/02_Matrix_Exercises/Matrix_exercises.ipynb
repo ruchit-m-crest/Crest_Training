{
 "cells": [
  {
   "cell_type": "markdown",
   "id": "20d7f84c-d5a3-4199-9427-b100b1c86b48",
   "metadata": {},
   "source": [
    "## 1.Python program to a Sort Matrix by index-value equality count"
   ]
  },
  {
   "cell_type": "code",
   "execution_count": 1,
   "id": "362dd109-50c2-49d5-96a8-74ca5c9adb36",
   "metadata": {},
   "outputs": [
    {
     "name": "stdout",
     "output_type": "stream",
     "text": [
      "The original list is : [[3, 1, 2, 5, 4], [0, 1, 2, 3, 4], [6, 5, 4, 3, 2], [0, 5, 4, 2]]\n",
      "Sorted List : [[6, 5, 4, 3, 2], [0, 5, 4, 2], [3, 1, 2, 5, 4], [0, 1, 2, 3, 4]]\n"
     ]
    }
   ],
   "source": [
    "def get_idx_ele_count(row):\n",
    "\n",
    "    # getting required count\n",
    "    # element and index compared, if equal added\n",
    "    # in list, length computed using len()\n",
    "    return len([ele for idx, ele in enumerate(row) if ele == idx])\n",
    "\n",
    "\n",
    "# initializing list\n",
    "test_list = [[3, 1, 2, 5, 4], [0, 1, 2, 3, 4], \n",
    "             [6, 5, 4, 3, 2], [0, 5, 4, 2]]\n",
    "\n",
    "# printing original list\n",
    "print(\"The original list is : \" + str(test_list))\n",
    "\n",
    "# inplace sorting using sort()\n",
    "test_list.sort(key=get_idx_ele_count)\n",
    "\n",
    "# printing result\n",
    "print(\"Sorted List : \" + str(test_list))"
   ]
  },
  {
   "cell_type": "markdown",
   "id": "3806dc74-1fed-4828-92d2-1dc64b06ed3a",
   "metadata": {},
   "source": [
    "## 2.Python Program to Reverse Every Kth row in a Matrix"
   ]
  },
  {
   "cell_type": "code",
   "execution_count": 3,
   "id": "566583df-d447-4edb-aa1d-b78b461d0c4d",
   "metadata": {},
   "outputs": [
    {
     "name": "stdout",
     "output_type": "stream",
     "text": [
      "Afer Reversing the Kth row: [[5, 3, 2], [8, 6, 3], [2, 5, 3], [3, 6], [3, 7, 4], [9, 2]]\n"
     ]
    }
   ],
   "source": [
    "a = [[5, 3, 2], [8, 6, 3], [3, 5, 2], [3, 6], [3, 7, 4], [2, 9]]\n",
    "k = 3\n",
    "\n",
    "res = []\n",
    "\n",
    "for i,ele in enumerate(a):\n",
    "\n",
    "    if(i+1)%k==0:\n",
    "        res.append(list(reversed(ele)))\n",
    "                   \n",
    "    else:\n",
    "        res.append(ele)\n",
    "\n",
    "print('Afer Reversing the Kth row: ' +  str(res))"
   ]
  },
  {
   "cell_type": "code",
   "execution_count": 7,
   "id": "b0106773-f503-41b8-b7ef-1bd9dbf34707",
   "metadata": {},
   "outputs": [
    {
     "name": "stdout",
     "output_type": "stream",
     "text": [
      "[[5, 3, 2], [8, 6, 3], [2, 5, 3], [3, 6], [3, 7, 4], [9, 2]]\n"
     ]
    }
   ],
   "source": [
    "a = [[5, 3, 2], [8, 6, 3], [3, 5, 2], [3, 6], [3, 7, 4], [2, 9]]\n",
    "k = 3\n",
    "\n",
    "res = [ele[::-1] if (i+1)%k ==0 else ele for i,ele in enumerate(a)  ]\n",
    "\n",
    "print(str(res))\n",
    "\n"
   ]
  },
  {
   "cell_type": "markdown",
   "id": "ca8ed8f4-8c23-4adb-8679-6f3b6b44c4a3",
   "metadata": {},
   "source": [
    "## 3.Python Program to Convert String Matrix Representation to Matrix\n"
   ]
  },
  {
   "cell_type": "code",
   "execution_count": 18,
   "id": "c0a41a22-9b9a-44c8-958f-caa3fdb1347c",
   "metadata": {},
   "outputs": [
    {
     "name": "stdout",
     "output_type": "stream",
     "text": [
      "[['gfg', 'is'], ['best', 'for'], ['all', 'geeks']]\n"
     ]
    }
   ],
   "source": [
    "test_str = \"[gfg,is],[best,for],[all,geeks]\"\n",
    "\n",
    "rows = test_str[1:-1].split(\"],[\")\n",
    "\n",
    "mat = []\n",
    "for row in rows:\n",
    "    ele = row.split(\",\")\n",
    "    mat.append(ele)\n",
    "\n",
    "print(mat)"
   ]
  },
  {
   "cell_type": "markdown",
   "id": "3c08d981-aad3-499c-9a55-32d21218e7b9",
   "metadata": {},
   "source": [
    "## 4.Count the frequency of matrix row length"
   ]
  },
  {
   "cell_type": "code",
   "execution_count": 33,
   "id": "ac8e4f1d-0fd6-4111-aeed-92fa4923160f",
   "metadata": {},
   "outputs": [
    {
     "name": "stdout",
     "output_type": "stream",
     "text": [
      "The original list is : [[6, 3, 1], [8, 9], [2], [10, 12, 7], [4, 11]]\n",
      "{3: 3, 2: 1, 1: 1}\n"
     ]
    }
   ],
   "source": [
    "test_list = [[6, 3, 1], [8, 9], [2],[10, 12, 7], [4, 11]]\n",
    "\n",
    "print(\"The original list is : \" + str(test_list))\n",
    "\n",
    "res = dict()\n",
    "for sub in test_list:\n",
    "\n",
    "    if len(sub) not in res:\n",
    "        res[len(sub)] = 1\n",
    "\n",
    "    else:\n",
    "        res[len(res)] += 1\n",
    "\n",
    "print(res)"
   ]
  },
  {
   "cell_type": "markdown",
   "id": "b038cd35-2d79-4857-abd2-0ef01d645854",
   "metadata": {},
   "source": [
    "## 5.Convert Integer Matrix to String Matrix"
   ]
  },
  {
   "cell_type": "code",
   "execution_count": 40,
   "id": "c23d93f8-4a9b-4baa-8b3a-6ac83cdcf7f1",
   "metadata": {},
   "outputs": [
    {
     "name": "stdout",
     "output_type": "stream",
     "text": [
      "The original list : [[4, 5, 7], [10, 8, 3], [19, 4, 6], [9, 3, 6]]\n",
      "The data type converted Matrix : [['4', '5', '7'], ['10', '8', '3'], ['19', '4', '6'], ['9', '3', '6']]\n"
     ]
    }
   ],
   "source": [
    "test_list = [[4, 5, 7], [10, 8, 3], [19, 4, 6], [9, 3, 6]]\n",
    "\n",
    "print(\"The original list : \" + str(test_list))\n",
    "\n",
    "res = [[str(ele) for ele in sub]for sub in test_list]\n",
    "\n",
    "print(\"The data type converted Matrix : \" + str(res))"
   ]
  },
  {
   "cell_type": "code",
   "execution_count": 44,
   "id": "baca567c-1c0f-4f23-9b34-2b9a6a1b2c1b",
   "metadata": {},
   "outputs": [
    {
     "name": "stdout",
     "output_type": "stream",
     "text": [
      "The original list : [[4, 5, 7], [10, 8, 3], [19, 4, 6], [9, 3, 6]]\n",
      "The data type converted Matrix : [['4', '5', '7'], ['10', '8', '3'], ['19', '4', '6'], ['9', '3', '6']]\n"
     ]
    }
   ],
   "source": [
    "test_list = [[4, 5, 7], [10, 8, 3], [19, 4, 6], [9, 3, 6]]\n",
    "\n",
    "print(\"The original list : \" + str(test_list))\n",
    "\n",
    "sub_list = []\n",
    "for sub in test_list:\n",
    "    str_row = []\n",
    "    \n",
    "    for ele in sub:\n",
    "        str_row.append(str(ele))\n",
    "        \n",
    "    sub_list.append(str_row)\n",
    "\n",
    "print(\"The data type converted Matrix : \" + str(sub_list))"
   ]
  },
  {
   "cell_type": "markdown",
   "id": "4cfa89a8-c254-48be-9f92-fb02f54e34ea",
   "metadata": {},
   "source": [
    "## 6.Python Program to Convert Tuple Matrix to Tuple List"
   ]
  },
  {
   "cell_type": "code",
   "execution_count": 1,
   "id": "0f2b87ff-d73a-4b5e-b2dc-af0d6e551c2f",
   "metadata": {},
   "outputs": [
    {
     "name": "stdout",
     "output_type": "stream",
     "text": [
      "The original list is : [[(4, 5), (7, 8)], [(10, 13), (18, 17)], [(0, 4), (10, 1)]]\n",
      "The converted tuple list : [(4, 7, 10, 18, 0, 10), (5, 8, 13, 17, 4, 1)]\n"
     ]
    }
   ],
   "source": [
    "test_list = [[(4, 5), (7, 8)], [(10, 13), (18, 17)], [(0, 4), (10, 1)]]\n",
    "\n",
    "print(\"The original list is : \" + str(test_list))\n",
    "\n",
    "temp = [ele for sub in test_list for ele in sub]\n",
    "\n",
    "res = list(zip(*temp))\n",
    "\n",
    "print(\"The converted tuple list : \" + str(res))\n"
   ]
  },
  {
   "cell_type": "markdown",
   "id": "f0556ed1-b5ec-4565-8fcb-eade57c974db",
   "metadata": {},
   "source": [
    "## 7.Group Elements in Matrix"
   ]
  },
  {
   "cell_type": "code",
   "execution_count": 3,
   "id": "f3a3c8bf-66c5-40cc-8238-cc7a9490f7e5",
   "metadata": {},
   "outputs": [
    {
     "name": "stdout",
     "output_type": "stream",
     "text": [
      "The original list is : [[5, 8], [2, 0], [5, 4], [2, 3], [7, 9]]\n",
      "The Grouped Matrix : {5: [8, 4], 2: [0, 3], 7: [9]}\n"
     ]
    }
   ],
   "source": [
    "test_list = [[5, 8], [2, 0], [5, 4], [2, 3], [7, 9]]\n",
    "\n",
    "print(\"The original list is : \" + str(test_list))\n",
    "\n",
    "res = {idx[0]: [] for idx in test_list}\n",
    "\n",
    "for idx in test_list:\n",
    "    res[idx[0]].append(idx[1])\n",
    "/\n",
    "print(\"The Grouped Matrix : \" + str(res))"
   ]
  },
  {
   "cell_type": "markdown",
   "id": "6c26340e-a3e0-4295-9dca-3d7e8df0b6c6",
   "metadata": {},
   "source": [
    "## 8.Assigning Subsequent Rows to Matrix first rows element"
   ]
  },
  {
   "cell_type": "code",
   "execution_count": 4,
   "id": "4503e384-de6d-49d7-a423-db3a60eb41b6",
   "metadata": {},
   "outputs": [
    {
     "name": "stdout",
     "output_type": "stream",
     "text": [
      "The Original list : [[5, 8, 9], [2, 0, 9], [5, 4, 2], [2, 3, 9]]\n",
      "The Assigned Matrix : {5: [2, 0, 9], 8: [5, 4, 2], 9: [2, 3, 9]}\n"
     ]
    }
   ],
   "source": [
    "test_list = [[5, 8, 9], [2, 0, 9], [5, 4, 2], [2, 3, 9]]\n",
    "\n",
    "print('The Original list : ' + str(test_list))\n",
    "\n",
    "res = {test_list[0][ele] :  test_list[ele + 1] for ele in range(len(test_list) - 1)}\n",
    "\n",
    "print(\"The Assigned Matrix : \" + str(res))"
   ]
  },
  {
   "cell_type": "markdown",
   "id": "e82632b0-2bac-409e-9854-9ac827a2e928",
   "metadata": {},
   "source": [
    "## 9.Adding and Subtracting Matrices in Python"
   ]
  },
  {
   "cell_type": "code",
   "execution_count": 8,
   "id": "376a5944-44eb-4e9b-bc50-f1426970bb4a",
   "metadata": {},
   "outputs": [
    {
     "name": "stdout",
     "output_type": "stream",
     "text": [
      "Elemnts of first Matrix :\n",
      "[[1 2]\n",
      " [3 4]]\n",
      "Elements of Second Matrix :\n",
      "[[5 6]\n",
      " [7 8]]\n",
      "Sum of the matrices :\n",
      "[[ 6  8]\n",
      " [10 12]]\n",
      "Subtration of the matrices :\n",
      "[[-4 -4]\n",
      " [-4 -4]]\n"
     ]
    }
   ],
   "source": [
    "import numpy as np\n",
    "\n",
    "A = np.array([[1,2],[3,4]])\n",
    "B = np.array([[5,6],[7,8]])\n",
    "\n",
    "print('Elemnts of first Matrix :')\n",
    "print(A)\n",
    "\n",
    "print('Elements of Second Matrix :')\n",
    "print(B)\n",
    "\n",
    "print('Sum of the matrices :')\n",
    "print(np.add(A,B))\n",
    "\n",
    "print('Subtration of the matrices :')\n",
    "print(np.subtract(A,B))"
   ]
  },
  {
   "cell_type": "markdown",
   "id": "4b07ebae-10d6-477a-b69f-485548169418",
   "metadata": {},
   "source": [
    "## 10.Convert Matrix to Dictionary"
   ]
  },
  {
   "cell_type": "code",
   "execution_count": 13,
   "id": "cc712706-2e81-44e2-b4cd-e2887d634578",
   "metadata": {},
   "outputs": [
    {
     "name": "stdout",
     "output_type": "stream",
     "text": [
      "{1: [5, 6, 7], 2: [8, 3, 2], 3: [8, 2, 1]}\n"
     ]
    }
   ],
   "source": [
    "li = [[5, 6, 7], [8, 3, 2], [8, 2, 1]]\n",
    "\n",
    "res = {idx + 1: val for idx, val in enumerate(li)}\n",
    "\n",
    "print(res)"
   ]
  },
  {
   "cell_type": "markdown",
   "id": "d99ea0e8-7f98-4b8b-8b28-6d52f10db5ed",
   "metadata": {},
   "source": [
    "## 11.Convert matrix to custom tuple matrix"
   ]
  },
  {
   "cell_type": "code",
   "execution_count": 20,
   "id": "329e1233-ee52-4731-a27e-de75cc4d49b5",
   "metadata": {},
   "outputs": [
    {
     "name": "stdout",
     "output_type": "stream",
     "text": [
      "The original list is : [[4, 5, 6], [6, 7, 3], [1, 3, 4]]\n"
     ]
    },
    {
     "data": {
      "text/plain": [
       "[('Gfg', 4),\n",
       " ('Gfg', 5),\n",
       " ('Gfg', 6),\n",
       " ('is', 6),\n",
       " ('is', 7),\n",
       " ('is', 3),\n",
       " ('best', 1),\n",
       " ('best', 3),\n",
       " ('best', 4)]"
      ]
     },
     "execution_count": 20,
     "metadata": {},
     "output_type": "execute_result"
    }
   ],
   "source": [
    "test_list = [[4, 5, 6], [6, 7, 3], [1, 3, 4]]\n",
    "print(\"The original list is : \" + str(test_list))\n",
    "\n",
    "add_list = ['Gfg', 'is', 'best']\n",
    "res = []\n",
    "\n",
    "for i in range(len(add_list)):\n",
    "    for j in range(len(add_list)):\n",
    "        res.append((add_list[i],test_list[i][j]))\n",
    "    \n",
    "res\n",
    "# [('Gfg', 4), ('Gfg', 5), ('Gfg', 6), ('is', 6), ('is', 7), ('is', 3), ('best', 1), ('best', 3), ('best', 4)]"
   ]
  },
  {
   "cell_type": "markdown",
   "id": "4d887370-322a-496a-964c-4b8673f3f42a",
   "metadata": {},
   "source": [
    "## 12.Matrix Row subset"
   ]
  },
  {
   "cell_type": "code",
   "execution_count": 28,
   "id": "88176b26-023a-4ecc-9f59-3706f509233e",
   "metadata": {},
   "outputs": [
    {
     "name": "stdout",
     "output_type": "stream",
     "text": [
      "The original list is : [[4, 5, 7], [2, 3, 4], [9, 8, 0]]\n"
     ]
    },
    {
     "data": {
      "text/plain": [
       "[[2, 3], [1, 2], [9, 0]]"
      ]
     },
     "execution_count": 28,
     "metadata": {},
     "output_type": "execute_result"
    }
   ],
   "source": [
    "test_list = [[4, 5, 7], [2, 3, 4], [9, 8, 0]]\n",
    "print(\"The original list is : \" + str(test_list))\n",
    "\n",
    "check_matr = [[2, 3], [1, 2], [9, 0]]\n",
    "\n",
    "res = []\n",
    "\n",
    "for x in check_matr:\n",
    "    for y in test_list:\n",
    "        if set(i).issubset(y):\n",
    "            res.append(x)\n",
    "\n",
    "res"
   ]
  },
  {
   "cell_type": "markdown",
   "id": "85c28e5e-1408-42d8-ad87-88cb8e7a4b0c",
   "metadata": {},
   "source": [
    "## 13.Group similar element in matrix"
   ]
  },
  {
   "cell_type": "code",
   "execution_count": 32,
   "id": "8676ffbc-ccaf-4d9c-aaca-5d2149154855",
   "metadata": {},
   "outputs": [
    {
     "name": "stdout",
     "output_type": "stream",
     "text": [
      "The original list : [1, 3, 5, 1, 3, 2, 5, 4, 2]\n"
     ]
    },
    {
     "data": {
      "text/plain": [
       "[[1, 1], [2, 2], [3, 3], [4], [5, 5]]"
      ]
     },
     "execution_count": 32,
     "metadata": {},
     "output_type": "execute_result"
    }
   ],
   "source": [
    "from itertools import groupby\n",
    "test_list = [1, 3, 5, 1, 3, 2, 5, 4, 2]\n",
    "\n",
    "print(\"The original list : \" + str(test_list))\n",
    "\n",
    "res =[]\n",
    "\n",
    "for x,y in groupby(sorted(test_list)):\n",
    "    res.append(list(y))\n",
    "\n",
    "res"
   ]
  },
  {
   "cell_type": "markdown",
   "id": "895ddae3-0a9d-4155-b6eb-f4c07a0e1d15",
   "metadata": {},
   "source": [
    "## 14.Row-wise tuple addition in tuple matrix"
   ]
  },
  {
   "cell_type": "code",
   "execution_count": 34,
   "id": "c8b566e1-62cf-4b18-b6c2-2bb9d5cc700f",
   "metadata": {},
   "outputs": [
    {
     "name": "stdout",
     "output_type": "stream",
     "text": [
      "The original list is : [[('Gfg', 3), ('is', 3)], [('best', 1)], [('for', 5), ('geeks', 1)]]\n",
      "The matrix after row elements addition : [[('Gfg', 3, 6), ('is', 3, 6)], [('best', 1, 7)], [('for', 5, 8), ('geeks', 1, 8)]]\n"
     ]
    }
   ],
   "source": [
    "test_list = [[('Gfg', 3), ('is', 3)], [('best', 1)], [('for', 5), ('geeks', 1)]]\n",
    "\n",
    "print(\"The original list is : \" + str(test_list))\n",
    "cus_eles = [6, 7, 8]\n",
    "res = [[(idx+ (val,)) for idx in key] for key, val in zip(test_list, cus_eles)]\n",
    "\n",
    "print(\"The matrix after row elements addition : \" + str(res))"
   ]
  },
  {
   "cell_type": "markdown",
   "id": "ab8cff2c-7a03-4676-8385-26e023ea57ab",
   "metadata": {},
   "source": [
    "## 15.Create an n*n matrix, where all the sub-matrix have the sum of opposite corner elements as even"
   ]
  },
  {
   "cell_type": "code",
   "execution_count": 43,
   "id": "9917bc2b-d94d-4613-9256-dde816f6827c",
   "metadata": {},
   "outputs": [
    {
     "name": "stdout",
     "output_type": "stream",
     "text": [
      "1 2 3 4 \n",
      "8 7 6 5 \n",
      "9 10 11 12 \n",
      "16 15 14 13 \n"
     ]
    }
   ],
   "source": [
    "import itertools\n",
    "\n",
    "def sub_mat_even(n):\n",
    "    \n",
    "    temp = itertools.count(1)\n",
    "\n",
    "    l = [[next(temp)for i in range(n)]for i in range(n)]\n",
    "\n",
    "    if n%2 == 0:\n",
    "        for i in range(0,len(l)):\n",
    "            if i%2 == 1:\n",
    "                l[i][:] = l[i][::-1]\n",
    "    \n",
    "    for i in range(n):\n",
    "        for j in range(n):\n",
    "            print(l[i][j],end=\" \")\n",
    "        print()\n",
    "\n",
    "n = 4\n",
    "sub_mat_even(n)"
   ]
  },
  {
   "cell_type": "code",
   "execution_count": null,
   "id": "6a03416b-9b98-4864-ac4e-aa8d9aee737d",
   "metadata": {},
   "outputs": [],
   "source": []
  }
 ],
 "metadata": {
  "kernelspec": {
   "display_name": "Python 3 (ipykernel)",
   "language": "python",
   "name": "python3"
  },
  "language_info": {
   "codemirror_mode": {
    "name": "ipython",
    "version": 3
   },
   "file_extension": ".py",
   "mimetype": "text/x-python",
   "name": "python",
   "nbconvert_exporter": "python",
   "pygments_lexer": "ipython3",
   "version": "3.13.5"
  }
 },
 "nbformat": 4,
 "nbformat_minor": 5
}
