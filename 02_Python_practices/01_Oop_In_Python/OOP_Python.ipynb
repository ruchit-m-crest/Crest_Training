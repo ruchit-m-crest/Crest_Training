{
 "cells": [
  {
   "cell_type": "markdown",
   "id": "7371a979-4470-4bdd-bfde-282cefb9e6f5",
   "metadata": {},
   "source": [
    "## Inner class"
   ]
  },
  {
   "cell_type": "code",
   "execution_count": 11,
   "id": "c4bb52a0-7425-4e09-a7d3-e67f811bb415",
   "metadata": {},
   "outputs": [
    {
     "name": "stdout",
     "output_type": "stream",
     "text": [
      "Ruchit 40\n",
      "HP i5 16 GB\n",
      "Manav 76\n",
      "HP i5 16 GB\n"
     ]
    }
   ],
   "source": [
    "class Students:\n",
    "    def __init__(self,name,roll):\n",
    "        self.name = name\n",
    "        self.roll = roll\n",
    "        self.lap = self.Laptop()\n",
    "\n",
    "    def show(self):\n",
    "        print(self.name, self.roll)\n",
    "        self.lap.show()\n",
    "\n",
    "    class Laptop:\n",
    "\n",
    "        def __init__(self):\n",
    "            self.brand = 'HP'\n",
    "            self.cpu = 'i5'\n",
    "            self.ram = '16 GB'\n",
    "\n",
    "        def show(self):\n",
    "            print(self.brand, self.cpu, self.ram)\n",
    "\n",
    "s1 = Students('Ruchit',40)\n",
    "s2 = Students('Manav',76)\n",
    "\n",
    "s1.show()\n",
    "s2.show()\n",
    "\n"
   ]
  },
  {
   "cell_type": "markdown",
   "id": "00fd2461-c561-47b8-b1ca-d6829a5e3dfc",
   "metadata": {},
   "source": [
    "## Inheritance"
   ]
  },
  {
   "cell_type": "code",
   "execution_count": 15,
   "id": "9ea0dd66-d08b-4cf7-9fc8-a8796647b309",
   "metadata": {},
   "outputs": [
    {
     "name": "stdout",
     "output_type": "stream",
     "text": [
      "Feature1 Working...\n",
      "Feature2 working...\n",
      "Feature1 Working...\n",
      "Feature3 Working...\n"
     ]
    }
   ],
   "source": [
    "class A:\n",
    "    def feature1(self):\n",
    "        print('Feature1 Working...')\n",
    "    def feature2(self):\n",
    "        print('Feature2 working...')\n",
    "\n",
    "class B(A):\n",
    "    def feature3(self):\n",
    "        print('Feature3 Working...')\n",
    "    def feature4(self):\n",
    "        print('Feature4 working...')\n",
    "        \n",
    "a1 = A()\n",
    "\n",
    "a1.feature1()\n",
    "a1.feature2()\n",
    "\n",
    "b1 = B()\n",
    "\n",
    "b1.feature1()\n",
    "b1.feature3()"
   ]
  },
  {
   "cell_type": "markdown",
   "id": "707e5ab4-0828-497f-9369-b8a9c7af7ee4",
   "metadata": {},
   "source": [
    "## Constructor"
   ]
  },
  {
   "cell_type": "code",
   "execution_count": 22,
   "id": "be96b9e3-b49a-49fc-881e-3b7281f0a6e5",
   "metadata": {},
   "outputs": [
    {
     "name": "stdout",
     "output_type": "stream",
     "text": [
      "In a init method of A\n",
      "In a init method of B\n"
     ]
    }
   ],
   "source": [
    "class A:\n",
    "    # constructor of class\n",
    "    def __init__(self):\n",
    "        print('In a init method of A')\n",
    "        \n",
    "    def feature1(self):\n",
    "        print('Feature1 Working...')\n",
    "    def feature2(self):\n",
    "        print('Feature2 working...')\n",
    "\n",
    "class B(A):\n",
    "    \n",
    "    def __init__(self):\n",
    "        #super().__init__() \n",
    "        print('In a init method of B')\n",
    "    \n",
    "    def feature3(self):\n",
    "        print('Feature3 Working...')\n",
    "    def feature4(self):\n",
    "        print('Feature4 working...')\n",
    "        \n",
    "#a1 = A()\n",
    "b1 = B() #object of B can also call constructor of A untill B do not have it's own constructor"
   ]
  },
  {
   "cell_type": "code",
   "execution_count": 26,
   "id": "b6f52418-8ca1-453e-93aa-4d56bf18b789",
   "metadata": {},
   "outputs": [
    {
     "name": "stdout",
     "output_type": "stream",
     "text": [
      "In a init method of A\n",
      "In a init of C\n",
      "Feature2 working...\n"
     ]
    }
   ],
   "source": [
    "class A:\n",
    "    # constructor of class\n",
    "    def __init__(self):\n",
    "        print('In a init method of A')\n",
    "        \n",
    "    def feature1(self):\n",
    "        print('Feature1 Working...')\n",
    "    def feature2(self):\n",
    "        print('Feature2 working...')\n",
    "\n",
    "class B:\n",
    "    \n",
    "    def __init__(self):\n",
    "        #super().__init__() \n",
    "        print('In a init method of B')\n",
    "    \n",
    "    def feature3(self):\n",
    "        print('Feature3 Working...')\n",
    "    def feature4(self):\n",
    "        print('Feature4 working...')\n",
    "\n",
    "class C(A,B):\n",
    "\n",
    "    def __init__(self):\n",
    "        super().__init__()\n",
    "        print('In a init of C')\n",
    "    def feat(self):\n",
    "        super().feature2()\n",
    "        \n",
    "c1 = C()\n",
    "c1.feat()\n",
    "#Biased towads A"
   ]
  },
  {
   "cell_type": "markdown",
   "id": "0e3f1db5-7d61-4c8f-a8dc-508541efa31e",
   "metadata": {},
   "source": [
    "## Polymorphism"
   ]
  },
  {
   "cell_type": "code",
   "execution_count": 6,
   "id": "8e9f5e82-9012-416b-a999-4db56ce49cbd",
   "metadata": {},
   "outputs": [
    {
     "name": "stdout",
     "output_type": "stream",
     "text": [
      "Compiling...\n",
      "Running...\n"
     ]
    }
   ],
   "source": [
    "class PyCharm:\n",
    "    def execute(self):\n",
    "        print('Compiling...')\n",
    "        print('Running...')\n",
    "\n",
    "class Laptop:\n",
    "    def code(self,ide):\n",
    "        ide.execute()\n",
    "\n",
    "\n",
    "ide = PyCharm()\n",
    "\n",
    "lap1 = Laptop()\n",
    "lap1.code(ide)\n",
    "        "
   ]
  },
  {
   "cell_type": "code",
   "execution_count": 7,
   "id": "35728857-9086-44ca-98bb-8d846ed66892",
   "metadata": {},
   "outputs": [
    {
     "name": "stdout",
     "output_type": "stream",
     "text": [
      "spell check\n",
      "convention check\n",
      "compiling...\n",
      "running\n"
     ]
    }
   ],
   "source": [
    "class PyCharm:\n",
    "    def execute(self):\n",
    "        print('Compiling...')\n",
    "        print('Running...')\n",
    "\n",
    "class MyEditor:\n",
    "    def execute(self):\n",
    "        print('spell check')\n",
    "        print('convention check')\n",
    "        print('compiling...')\n",
    "        print('running')\n",
    "        \n",
    "class Laptop:\n",
    "    def code(self,ide):\n",
    "        ide.execute()\n",
    "\n",
    "\n",
    "ide = MyEditor()\n",
    "\n",
    "lap1 = Laptop()\n",
    "lap1.code(ide)\n",
    "        "
   ]
  },
  {
   "cell_type": "markdown",
   "id": "a03ab543-d73a-4c2f-a3e6-c321c9201f7a",
   "metadata": {},
   "source": [
    "## Operator overloading"
   ]
  },
  {
   "cell_type": "code",
   "execution_count": 8,
   "id": "164898c4-0745-4359-b005-df2fda6301f4",
   "metadata": {},
   "outputs": [
    {
     "name": "stdout",
     "output_type": "stream",
     "text": [
      "11\n",
      "11\n"
     ]
    }
   ],
   "source": [
    "a = 5\n",
    "b = 6\n",
    "\n",
    "print(a+b)\n",
    "\n",
    "print(int.__add__(a,b))"
   ]
  },
  {
   "cell_type": "code",
   "execution_count": 9,
   "id": "1c571889-4abb-440e-8d48-30455850a7a0",
   "metadata": {},
   "outputs": [
    {
     "name": "stdout",
     "output_type": "stream",
     "text": [
      "56\n",
      "56\n"
     ]
    }
   ],
   "source": [
    "a = '5'\n",
    "b = '6'\n",
    "\n",
    "print(a+b)\n",
    "\n",
    "print(str.__add__(a,b))"
   ]
  },
  {
   "cell_type": "code",
   "execution_count": 18,
   "id": "ae7f4b9c-464c-4cec-a20b-aa2c3d5fdced",
   "metadata": {},
   "outputs": [
    {
     "name": "stdout",
     "output_type": "stream",
     "text": [
      "129\n"
     ]
    }
   ],
   "source": [
    "class Student:\n",
    "\n",
    "    def __init__(self,m1,m2):\n",
    "        self.m1 = m1\n",
    "        self.m2 = m2\n",
    "\n",
    "    def __add__(self,other):\n",
    "        m1 = self.m1 + other.m2\n",
    "        m2 = self.m2 + other.m2\n",
    "        s3 = Student(m1,m2)\n",
    "\n",
    "        return s3\n",
    "\n",
    "s1 = Student(58,65)\n",
    "s2 = Student(73,71)\n",
    "\n",
    "s3 = s1 + s2\n",
    "\n",
    "print(s3.m1)"
   ]
  },
  {
   "cell_type": "code",
   "execution_count": null,
   "id": "21bd4edb-60d1-48cb-b162-d6b80537c5c2",
   "metadata": {},
   "outputs": [],
   "source": []
  }
 ],
 "metadata": {
  "kernelspec": {
   "display_name": "Python 3 (ipykernel)",
   "language": "python",
   "name": "python3"
  },
  "language_info": {
   "codemirror_mode": {
    "name": "ipython",
    "version": 3
   },
   "file_extension": ".py",
   "mimetype": "text/x-python",
   "name": "python",
   "nbconvert_exporter": "python",
   "pygments_lexer": "ipython3",
   "version": "3.13.5"
  }
 },
 "nbformat": 4,
 "nbformat_minor": 5
}
